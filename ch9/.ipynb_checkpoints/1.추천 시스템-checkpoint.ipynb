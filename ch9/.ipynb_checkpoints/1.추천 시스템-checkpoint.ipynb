{
 "cells": [
  {
   "cell_type": "markdown",
   "id": "458aa9f8",
   "metadata": {},
   "source": [
    "### 패키지 다운 "
   ]
  },
  {
   "cell_type": "code",
   "execution_count": 35,
   "id": "4a95ca68",
   "metadata": {},
   "outputs": [],
   "source": [
    "import pandas as pd\n",
    "import numpy as np\n",
    "import scipy.sparse as sp\n",
    "from tqdm.notebook import tqdm as tqdm\n",
    "\n",
    "import pickle"
   ]
  },
  {
   "cell_type": "markdown",
   "id": "fbd95e4b",
   "metadata": {},
   "source": [
    "### 데이터셋 다운 및 전처리 후 나누기 "
   ]
  },
  {
   "cell_type": "code",
   "execution_count": 9,
   "id": "6fc46fbf",
   "metadata": {},
   "outputs": [],
   "source": [
    "# df = pd.read_excel('online_retail.xlsx')"
   ]
  },
  {
   "cell_type": "code",
   "execution_count": 10,
   "id": "43f34eba",
   "metadata": {},
   "outputs": [],
   "source": [
    "# with open('online_retail.bin', 'wb') as f_out:\n",
    "#     pickle.dump(df, f_out)"
   ]
  },
  {
   "cell_type": "markdown",
   "id": "88d6073a",
   "metadata": {},
   "source": [
    "pickled version 재사용 가능 "
   ]
  },
  {
   "cell_type": "code",
   "execution_count": 11,
   "id": "a32a4e5b",
   "metadata": {},
   "outputs": [],
   "source": [
    "with open('online_retail.bin', 'rb')as f_in:\n",
    "    df = pickle.load(f_in)"
   ]
  },
  {
   "cell_type": "code",
   "execution_count": 12,
   "id": "14b09768",
   "metadata": {},
   "outputs": [
    {
     "data": {
      "text/html": [
       "<div>\n",
       "<style scoped>\n",
       "    .dataframe tbody tr th:only-of-type {\n",
       "        vertical-align: middle;\n",
       "    }\n",
       "\n",
       "    .dataframe tbody tr th {\n",
       "        vertical-align: top;\n",
       "    }\n",
       "\n",
       "    .dataframe thead th {\n",
       "        text-align: right;\n",
       "    }\n",
       "</style>\n",
       "<table border=\"1\" class=\"dataframe\">\n",
       "  <thead>\n",
       "    <tr style=\"text-align: right;\">\n",
       "      <th></th>\n",
       "      <th>InvoiceNo</th>\n",
       "      <th>StockCode</th>\n",
       "      <th>Description</th>\n",
       "      <th>Quantity</th>\n",
       "      <th>InvoiceDate</th>\n",
       "      <th>UnitPrice</th>\n",
       "      <th>CustomerID</th>\n",
       "      <th>Country</th>\n",
       "    </tr>\n",
       "  </thead>\n",
       "  <tbody>\n",
       "    <tr>\n",
       "      <th>0</th>\n",
       "      <td>536365</td>\n",
       "      <td>85123A</td>\n",
       "      <td>WHITE HANGING HEART T-LIGHT HOLDER</td>\n",
       "      <td>6</td>\n",
       "      <td>2010-12-01 08:26:00</td>\n",
       "      <td>2.55</td>\n",
       "      <td>17850.0</td>\n",
       "      <td>United Kingdom</td>\n",
       "    </tr>\n",
       "    <tr>\n",
       "      <th>1</th>\n",
       "      <td>536365</td>\n",
       "      <td>71053</td>\n",
       "      <td>WHITE METAL LANTERN</td>\n",
       "      <td>6</td>\n",
       "      <td>2010-12-01 08:26:00</td>\n",
       "      <td>3.39</td>\n",
       "      <td>17850.0</td>\n",
       "      <td>United Kingdom</td>\n",
       "    </tr>\n",
       "    <tr>\n",
       "      <th>2</th>\n",
       "      <td>536365</td>\n",
       "      <td>84406B</td>\n",
       "      <td>CREAM CUPID HEARTS COAT HANGER</td>\n",
       "      <td>8</td>\n",
       "      <td>2010-12-01 08:26:00</td>\n",
       "      <td>2.75</td>\n",
       "      <td>17850.0</td>\n",
       "      <td>United Kingdom</td>\n",
       "    </tr>\n",
       "    <tr>\n",
       "      <th>3</th>\n",
       "      <td>536365</td>\n",
       "      <td>84029G</td>\n",
       "      <td>KNITTED UNION FLAG HOT WATER BOTTLE</td>\n",
       "      <td>6</td>\n",
       "      <td>2010-12-01 08:26:00</td>\n",
       "      <td>3.39</td>\n",
       "      <td>17850.0</td>\n",
       "      <td>United Kingdom</td>\n",
       "    </tr>\n",
       "    <tr>\n",
       "      <th>4</th>\n",
       "      <td>536365</td>\n",
       "      <td>84029E</td>\n",
       "      <td>RED WOOLLY HOTTIE WHITE HEART.</td>\n",
       "      <td>6</td>\n",
       "      <td>2010-12-01 08:26:00</td>\n",
       "      <td>3.39</td>\n",
       "      <td>17850.0</td>\n",
       "      <td>United Kingdom</td>\n",
       "    </tr>\n",
       "  </tbody>\n",
       "</table>\n",
       "</div>"
      ],
      "text/plain": [
       "  InvoiceNo StockCode                          Description  Quantity  \\\n",
       "0    536365    85123A   WHITE HANGING HEART T-LIGHT HOLDER         6   \n",
       "1    536365     71053                  WHITE METAL LANTERN         6   \n",
       "2    536365    84406B       CREAM CUPID HEARTS COAT HANGER         8   \n",
       "3    536365    84029G  KNITTED UNION FLAG HOT WATER BOTTLE         6   \n",
       "4    536365    84029E       RED WOOLLY HOTTIE WHITE HEART.         6   \n",
       "\n",
       "          InvoiceDate  UnitPrice  CustomerID         Country  \n",
       "0 2010-12-01 08:26:00       2.55     17850.0  United Kingdom  \n",
       "1 2010-12-01 08:26:00       3.39     17850.0  United Kingdom  \n",
       "2 2010-12-01 08:26:00       2.75     17850.0  United Kingdom  \n",
       "3 2010-12-01 08:26:00       3.39     17850.0  United Kingdom  \n",
       "4 2010-12-01 08:26:00       3.39     17850.0  United Kingdom  "
      ]
     },
     "execution_count": 12,
     "metadata": {},
     "output_type": "execute_result"
    }
   ],
   "source": [
    "df.head()"
   ]
  },
  {
   "cell_type": "markdown",
   "id": "0dff0599",
   "metadata": {},
   "source": [
    "#### df 설명\n",
    "- InvoiceNo: 각 transaction을 고유하게 식별하는 송장 번호. Invoice number. Nominal, a 6-digit integral number uniquely assigned to each transaction. If this code starts with letter 'c', it indicates a cancellation.\n",
    "- StockCode: 구매 항목의 코드. Product (item) code. Nominal, a 5-digit integral number uniquely assigned to each distinct product.\n",
    "- Description: 상품 이름. Product (item) name. Nominal.\n",
    "- Quantity: transaction에서 해당 항목이 구매된 횟수. The quantities of each product (item) per transaction. Numeric.\n",
    "- InvoiceDate: Invice Date and time. Numeric, the day and time when each transaction was generated.\n",
    "- UnitPrice: 단가. Unit price. Numeric, Product price per unit in sterling.\n",
    "- CustomerID: Customer number. Nominal, a 5-digit integral number uniquely assigned to each customer.\n",
    "- Country: Country name. Nominal, the name of the country where each customer resides."
   ]
  },
  {
   "cell_type": "markdown",
   "id": "35e5380e",
   "metadata": {},
   "source": [
    "#### 고쳐야 할 문제\n",
    "열 이름의 대문자를 소문자로.\n",
    "일부 거래는 실제 거래가 아닌 수익이므로, 필터링하여 제외해야함.\n",
    "알 수 없는 사용자가 NaN으로 처리되어 있어, Customer ID가 float형태임.\n",
    "알 수 없는 사용자에게 공통 ID를 할당하고, 본 열을 정수형 (int)로 바꿔야 함"
   ]
  },
  {
   "cell_type": "code",
   "execution_count": 13,
   "id": "5a622e20",
   "metadata": {},
   "outputs": [],
   "source": [
    "df.columns = df.columns.str.lower()\n",
    "df = df[~df.invoiceno.astype('str').str.startswith('C')].reset_index(drop=True)\n",
    "#0~대신 invoiceno로 인덱싱함\n",
    "#drop=True를 사용해서 인덱싱 역할을 하는 동시에, 기존 열의 역할도 함\n",
    "df.customerid = df.customerid.fillna(-1).astype('int32')"
   ]
  },
  {
   "cell_type": "code",
   "execution_count": 14,
   "id": "28903bea",
   "metadata": {},
   "outputs": [
    {
     "data": {
      "text/html": [
       "<div>\n",
       "<style scoped>\n",
       "    .dataframe tbody tr th:only-of-type {\n",
       "        vertical-align: middle;\n",
       "    }\n",
       "\n",
       "    .dataframe tbody tr th {\n",
       "        vertical-align: top;\n",
       "    }\n",
       "\n",
       "    .dataframe thead th {\n",
       "        text-align: right;\n",
       "    }\n",
       "</style>\n",
       "<table border=\"1\" class=\"dataframe\">\n",
       "  <thead>\n",
       "    <tr style=\"text-align: right;\">\n",
       "      <th></th>\n",
       "      <th>invoiceno</th>\n",
       "      <th>stockcode</th>\n",
       "      <th>description</th>\n",
       "      <th>quantity</th>\n",
       "      <th>invoicedate</th>\n",
       "      <th>unitprice</th>\n",
       "      <th>customerid</th>\n",
       "      <th>country</th>\n",
       "    </tr>\n",
       "  </thead>\n",
       "  <tbody>\n",
       "    <tr>\n",
       "      <th>0</th>\n",
       "      <td>536365</td>\n",
       "      <td>85123A</td>\n",
       "      <td>WHITE HANGING HEART T-LIGHT HOLDER</td>\n",
       "      <td>6</td>\n",
       "      <td>2010-12-01 08:26:00</td>\n",
       "      <td>2.55</td>\n",
       "      <td>17850</td>\n",
       "      <td>United Kingdom</td>\n",
       "    </tr>\n",
       "    <tr>\n",
       "      <th>1</th>\n",
       "      <td>536365</td>\n",
       "      <td>71053</td>\n",
       "      <td>WHITE METAL LANTERN</td>\n",
       "      <td>6</td>\n",
       "      <td>2010-12-01 08:26:00</td>\n",
       "      <td>3.39</td>\n",
       "      <td>17850</td>\n",
       "      <td>United Kingdom</td>\n",
       "    </tr>\n",
       "    <tr>\n",
       "      <th>2</th>\n",
       "      <td>536365</td>\n",
       "      <td>84406B</td>\n",
       "      <td>CREAM CUPID HEARTS COAT HANGER</td>\n",
       "      <td>8</td>\n",
       "      <td>2010-12-01 08:26:00</td>\n",
       "      <td>2.75</td>\n",
       "      <td>17850</td>\n",
       "      <td>United Kingdom</td>\n",
       "    </tr>\n",
       "    <tr>\n",
       "      <th>3</th>\n",
       "      <td>536365</td>\n",
       "      <td>84029G</td>\n",
       "      <td>KNITTED UNION FLAG HOT WATER BOTTLE</td>\n",
       "      <td>6</td>\n",
       "      <td>2010-12-01 08:26:00</td>\n",
       "      <td>3.39</td>\n",
       "      <td>17850</td>\n",
       "      <td>United Kingdom</td>\n",
       "    </tr>\n",
       "    <tr>\n",
       "      <th>4</th>\n",
       "      <td>536365</td>\n",
       "      <td>84029E</td>\n",
       "      <td>RED WOOLLY HOTTIE WHITE HEART.</td>\n",
       "      <td>6</td>\n",
       "      <td>2010-12-01 08:26:00</td>\n",
       "      <td>3.39</td>\n",
       "      <td>17850</td>\n",
       "      <td>United Kingdom</td>\n",
       "    </tr>\n",
       "  </tbody>\n",
       "</table>\n",
       "</div>"
      ],
      "text/plain": [
       "  invoiceno stockcode                          description  quantity  \\\n",
       "0    536365    85123A   WHITE HANGING HEART T-LIGHT HOLDER         6   \n",
       "1    536365     71053                  WHITE METAL LANTERN         6   \n",
       "2    536365    84406B       CREAM CUPID HEARTS COAT HANGER         8   \n",
       "3    536365    84029G  KNITTED UNION FLAG HOT WATER BOTTLE         6   \n",
       "4    536365    84029E       RED WOOLLY HOTTIE WHITE HEART.         6   \n",
       "\n",
       "          invoicedate  unitprice  customerid         country  \n",
       "0 2010-12-01 08:26:00       2.55       17850  United Kingdom  \n",
       "1 2010-12-01 08:26:00       3.39       17850  United Kingdom  \n",
       "2 2010-12-01 08:26:00       2.75       17850  United Kingdom  \n",
       "3 2010-12-01 08:26:00       3.39       17850  United Kingdom  \n",
       "4 2010-12-01 08:26:00       3.39       17850  United Kingdom  "
      ]
     },
     "execution_count": 14,
     "metadata": {},
     "output_type": "execute_result"
    }
   ],
   "source": [
    "df.head()"
   ]
  },
  {
   "cell_type": "code",
   "execution_count": 15,
   "id": "dd7d6755",
   "metadata": {},
   "outputs": [],
   "source": [
    "#stockcode (뒤에 알파벳도 붙어 있는 str형)을 내림차순으로 정수 번호 부여\n",
    "stockcode_values = df.stockcode.astype('str')\n",
    "\n",
    "stockcodes = sorted(set(stockcode_values))\n",
    "stockcodes = {c:i for (i,c) in enumerate(stockcodes)}\n",
    "\n",
    "df.stockcode = stockcode_values.map(stockcodes).astype('int32')"
   ]
  },
  {
   "cell_type": "code",
   "execution_count": 16,
   "id": "c7c683ae",
   "metadata": {},
   "outputs": [],
   "source": [
    "df_train = df[df.invoicedate < '2011-10-09']\n",
    "df_train = df_train.reset_index(drop=True)\n",
    "df_val = df[(df.invoicedate >= '2011-10-09') &\n",
    "           (df.invoicedate <= '2011-11-09')]\n",
    "df_val = df_val.reset_index(drop=True)\n",
    "df_test = df[df.invoicedate >= '2011-11-09']\n",
    "df_test = df_test.reset_index(drop=True)"
   ]
  },
  {
   "cell_type": "code",
   "execution_count": 17,
   "id": "fc18cc1f",
   "metadata": {},
   "outputs": [
    {
     "name": "stdout",
     "output_type": "stream",
     "text": [
      "378470\n",
      "64460\n",
      "89691\n"
     ]
    }
   ],
   "source": [
    "print(len(df_train))\n",
    "print(len(df_val))\n",
    "print(len(df_test))"
   ]
  },
  {
   "cell_type": "markdown",
   "id": "3465bb89",
   "metadata": {},
   "source": [
    "### 추천 방법1 - precision 활용 "
   ]
  },
  {
   "cell_type": "code",
   "execution_count": 18,
   "id": "7e87d4eb",
   "metadata": {},
   "outputs": [
    {
     "data": {
      "text/plain": [
       "array([3527, 3506, 1347, 2730,  180])"
      ]
     },
     "execution_count": 18,
     "metadata": {},
     "output_type": "execute_result"
    }
   ],
   "source": [
    "top = df_train.stockcode.value_counts().head(5).index.values\n",
    "top"
   ]
  },
  {
   "cell_type": "code",
   "execution_count": 19,
   "id": "70ad651b",
   "metadata": {},
   "outputs": [],
   "source": [
    "def group_indptr(df):\n",
    "    indptr, = np.where(df.invoiceno != df.invoiceno.shift())\n",
    "    indptr = np.append(indptr, len(df)).astype('int32')\n",
    "    return indptr"
   ]
  },
  {
   "cell_type": "code",
   "execution_count": 20,
   "id": "2e5849d6",
   "metadata": {},
   "outputs": [],
   "source": [
    "val_indptr = group_indptr(df_val)\n",
    "num_groups = len(val_indptr) - 1\n",
    "baseline = np.tile(top, num_groups).reshape(-1,5)"
   ]
  },
  {
   "cell_type": "code",
   "execution_count": 21,
   "id": "9bd4c56e",
   "metadata": {},
   "outputs": [],
   "source": [
    "from numba import njit\n",
    "\n",
    "@njit\n",
    "def precision(group_indptr, true_items, predicted_items):\n",
    "    tp = 0\n",
    "    \n",
    "    n, m = predicted_items.shape\n",
    "    \n",
    "    for i in range(n):\n",
    "        group_start = group_indptr[i]\n",
    "        group_end = group_indptr[i+1]\n",
    "        group_true_items = true_items[group_start:group_end]\n",
    "        \n",
    "        for item in group_true_items:\n",
    "            for j in range(m):\n",
    "                if item == predicted_items[i, j]:\n",
    "                    tp = tp + 1\n",
    "                    continue\n",
    "                    \n",
    "    return tp / (n * m)"
   ]
  },
  {
   "cell_type": "code",
   "execution_count": 22,
   "id": "e36abefc",
   "metadata": {},
   "outputs": [
    {
     "data": {
      "text/plain": [
       "0.0642299794661191"
      ]
     },
     "execution_count": 22,
     "metadata": {},
     "output_type": "execute_result"
    }
   ],
   "source": [
    "val_items = df_val.stockcode.values\n",
    "precision(val_indptr, val_items, baseline)"
   ]
  },
  {
   "cell_type": "markdown",
   "id": "de96d6b9",
   "metadata": {},
   "source": [
    "### 추천 방법2 - 행렬 분해 "
   ]
  },
  {
   "cell_type": "code",
   "execution_count": 23,
   "id": "36608109",
   "metadata": {},
   "outputs": [],
   "source": [
    "df_train_user = df_train[df_train.customerid != -1].reset_index(drop=True)\n",
    "\n",
    "customers = sorted(set(df_train_user.customerid))\n",
    "customers = {c: i for (i, c) in enumerate(customers)}\n",
    "\n",
    "df_train_user.customerid = df_train_user.customerid.map(customers)"
   ]
  },
  {
   "cell_type": "code",
   "execution_count": 24,
   "id": "aec74936",
   "metadata": {},
   "outputs": [],
   "source": [
    "uid = df_train_user.customerid.values.astype('int32')\n",
    "iid = df_train_user.stockcode.values.astype('int32')\n",
    "ones = np.ones_like(uid, dtype='uint8')\n",
    "\n",
    "X_train = sp.csr_matrix((ones, (uid, iid)))"
   ]
  },
  {
   "cell_type": "code",
   "execution_count": 25,
   "id": "7548958d",
   "metadata": {},
   "outputs": [],
   "source": [
    "df_val.customerid = df_val.customerid.apply(lambda c: customers.get(c,-1))\n",
    "\n",
    "uid_val = df_val.drop_duplicates(subset='invoiceno').customerid.values\n",
    "known_mask = uid_val != -1\n",
    "uid_val = uid_val[known_mask]"
   ]
  },
  {
   "cell_type": "code",
   "execution_count": 26,
   "id": "cf45e550",
   "metadata": {},
   "outputs": [
    {
     "data": {
      "application/vnd.jupyter.widget-view+json": {
       "model_id": "e4794e8a2ce94ebfaeeaaa1ace1a8ac4",
       "version_major": 2,
       "version_minor": 0
      },
      "text/plain": [
       "  0%|          | 0/15 [00:00<?, ?it/s]"
      ]
     },
     "metadata": {},
     "output_type": "display_data"
    },
    {
     "data": {
      "text/plain": [
       "0.14094455852156057"
      ]
     },
     "execution_count": 26,
     "metadata": {},
     "output_type": "execute_result"
    }
   ],
   "source": [
    "imp_baseline = baseline.copy()\n",
    "\n",
    "from implicit.als import AlternatingLeastSquares\n",
    "\n",
    "item_user = X_train.T.tocsr()\n",
    "als = AlternatingLeastSquares(factors=128, regularization=0.000001,)\n",
    "als.fit(item_user)\n",
    "\n",
    "als_U = als.user_factors\n",
    "als_I = als.item_factors\n",
    "\n",
    "pred_all = als_U[uid_val].dot(als_I.T)\n",
    "top_val = (-pred_all).argsort(axis=1)[:,:5]\n",
    "imp_baseline[known_mask] =  top_val\n",
    "\n",
    "precision(val_indptr, val_items, imp_baseline)"
   ]
  },
  {
   "cell_type": "code",
   "execution_count": 48,
   "id": "9874f2cd",
   "metadata": {},
   "outputs": [
    {
     "data": {
      "text/plain": [
       "numpy.ndarray"
      ]
     },
     "execution_count": 48,
     "metadata": {},
     "output_type": "execute_result"
    }
   ],
   "source": [
    "type(als_I)"
   ]
  },
  {
   "cell_type": "markdown",
   "id": "adce93ce",
   "metadata": {},
   "source": [
    "### 방법3-tensorflow를 활용한 행렬분해 "
   ]
  },
  {
   "cell_type": "code",
   "execution_count": 27,
   "id": "36cbd712",
   "metadata": {},
   "outputs": [],
   "source": [
    "import tensorflow.compat.v1 as tf"
   ]
  },
  {
   "cell_type": "code",
   "execution_count": 28,
   "id": "427edd16",
   "metadata": {},
   "outputs": [],
   "source": [
    "def prepare_batches(seq, step):\n",
    "    n = len(seq)\n",
    "    res = []\n",
    "    for i in range(0, n, step):\n",
    "        res.append(seq[i:i+step])\n",
    "    return res"
   ]
  },
  {
   "cell_type": "code",
   "execution_count": 29,
   "id": "de7e769f",
   "metadata": {},
   "outputs": [],
   "source": [
    "num_users = uid.max() + 1\n",
    "num_items = iid.max() + 1\n",
    "\n",
    "num_factors = 128\n",
    "lambda_user = 0.0000001\n",
    "lambda_item = 0.0000001\n",
    "K = 5\n",
    "lr = 0.005"
   ]
  },
  {
   "cell_type": "code",
   "execution_count": 67,
   "id": "92d9d466",
   "metadata": {},
   "outputs": [],
   "source": [
    "def embed(inputs, size, dim, name=None):\n",
    "    std = np.sqrt(2 / dim)\n",
    "    emb = tf.Variable(tf.random_uniform([size, dim], -std, std), name=name)\n",
    "    lookup = tf.nn.embedding_lookup(emb, inputs)\n",
    "    return lookup\n",
    "\n",
    "graph = tf.Graph()\n",
    "graph.seed = 1\n",
    "\n",
    "with graph.as_default():\n",
    "    place_user = tf.placeholder(tf.int32, shape=(None, 1))\n",
    "    place_item = tf.placeholder(tf.int32, shape=(None, 1))\n",
    "    place_y = tf.placeholder(tf.float32, shape=(None, 1))\n",
    "\n",
    "    user_factors = embed(place_user, num_users, num_factors, \"user_factors\")\n",
    "    user_bias = embed(place_user, num_users, 1, \"user_bias\")\n",
    "    user_bias = tf.reshape(user_bias, [-1, 1])\n",
    "\n",
    "    item_factors = embed(place_item, num_items, num_factors, \"item_factors\")\n",
    "    item_bias = embed(place_item, num_items, 1, \"item_bias\")\n",
    "    item_bias = tf.reshape(item_bias, [-1, 1])\n",
    "\n",
    "    global_bias = tf.Variable(0.0, name='global_bias')\n",
    "\n",
    "    pred = tf.reduce_sum(user_factors * item_factors, axis=2)\n",
    "    pred = tf.sigmoid(global_bias + user_bias + item_bias + pred)\n",
    "\n",
    "    reg = lambda_user * tf.reduce_sum(user_factors * user_factors) + \\\n",
    "          lambda_item * tf.reduce_sum(item_factors * item_factors)\n",
    "\n",
    "    loss = tf.losses.log_loss(place_y, pred)\n",
    "    loss_total = loss + reg\n",
    "\n",
    "    opt = tf.train.AdamOptimizer(learning_rate=lr)\n",
    "    step = opt.minimize(loss_total)\n",
    "\n",
    "    init = tf.global_variables_initializer()"
   ]
  },
  {
   "cell_type": "code",
   "execution_count": 38,
   "id": "e183b752",
   "metadata": {},
   "outputs": [],
   "source": [
    "def get_variable(graph, session, name):\n",
    "    v = graph.get_operation_by_name(name)\n",
    "    v = v.values()[0]\n",
    "    v = v.eval(session=session)\n",
    "    return v\n",
    "\n",
    "def calculate_validation_precision(graph, session, uid):\n",
    "    U = get_variable(graph, session, 'user_factors')\n",
    "    I = get_variable(graph, session, 'item_factors')\n",
    "    bi = get_variable(graph, session, 'item_bias').reshape(-1)\n",
    "\n",
    "    pred_all = U[uid_val].dot(I.T) + bi\n",
    "    top_val = (-pred_all).argsort(axis=1)[:, :5]\n",
    "\n",
    "    imp_baseline = baseline.copy()\n",
    "    imp_baseline[known_mask] = top_val\n",
    "\n",
    "    return precision(val_indptr, val_items, imp_baseline)"
   ]
  },
  {
   "cell_type": "code",
   "execution_count": 76,
   "id": "820906cd",
   "metadata": {},
   "outputs": [
    {
     "data": {
      "application/vnd.jupyter.widget-view+json": {
       "model_id": "4ff24086cfb149fbacae1b6442db64ff",
       "version_major": 2,
       "version_minor": 0
      },
      "text/plain": [
       "  0%|          | 0/56 [00:00<?, ?it/s]"
      ]
     },
     "metadata": {},
     "output_type": "display_data"
    },
    {
     "data": {
      "application/vnd.jupyter.widget-view+json": {
       "model_id": "d46319689909441cb77a163104dd1ec4",
       "version_major": 2,
       "version_minor": 0
      },
      "text/plain": [
       "  0%|          | 0/56 [00:00<?, ?it/s]"
      ]
     },
     "metadata": {},
     "output_type": "display_data"
    },
    {
     "data": {
      "application/vnd.jupyter.widget-view+json": {
       "model_id": "d48386db53a7418a88f97b5305ac89f4",
       "version_major": 2,
       "version_minor": 0
      },
      "text/plain": [
       "  0%|          | 0/56 [00:00<?, ?it/s]"
      ]
     },
     "metadata": {},
     "output_type": "display_data"
    },
    {
     "data": {
      "application/vnd.jupyter.widget-view+json": {
       "model_id": "c60a6aa1b945469a934acf33b79dcda2",
       "version_major": 2,
       "version_minor": 0
      },
      "text/plain": [
       "  0%|          | 0/56 [00:00<?, ?it/s]"
      ]
     },
     "metadata": {},
     "output_type": "display_data"
    },
    {
     "data": {
      "application/vnd.jupyter.widget-view+json": {
       "model_id": "6779a50b0100453ca225230fa562c2b3",
       "version_major": 2,
       "version_minor": 0
      },
      "text/plain": [
       "  0%|          | 0/56 [00:00<?, ?it/s]"
      ]
     },
     "metadata": {},
     "output_type": "display_data"
    },
    {
     "data": {
      "application/vnd.jupyter.widget-view+json": {
       "model_id": "bcb19290443249118803b03fad3af8c7",
       "version_major": 2,
       "version_minor": 0
      },
      "text/plain": [
       "  0%|          | 0/56 [00:00<?, ?it/s]"
      ]
     },
     "metadata": {},
     "output_type": "display_data"
    },
    {
     "data": {
      "application/vnd.jupyter.widget-view+json": {
       "model_id": "d95b07e93887466b80def1d392546a61",
       "version_major": 2,
       "version_minor": 0
      },
      "text/plain": [
       "  0%|          | 0/56 [00:00<?, ?it/s]"
      ]
     },
     "metadata": {},
     "output_type": "display_data"
    },
    {
     "data": {
      "application/vnd.jupyter.widget-view+json": {
       "model_id": "090ad909eb86402597ec0d846b68a86e",
       "version_major": 2,
       "version_minor": 0
      },
      "text/plain": [
       "  0%|          | 0/56 [00:00<?, ?it/s]"
      ]
     },
     "metadata": {},
     "output_type": "display_data"
    },
    {
     "data": {
      "application/vnd.jupyter.widget-view+json": {
       "model_id": "d5fae4a6ce704cb9beed505e7de77014",
       "version_major": 2,
       "version_minor": 0
      },
      "text/plain": [
       "  0%|          | 0/56 [00:00<?, ?it/s]"
      ]
     },
     "metadata": {},
     "output_type": "display_data"
    },
    {
     "data": {
      "application/vnd.jupyter.widget-view+json": {
       "model_id": "9b93125708d2435e8a2c06f23ca24c31",
       "version_major": 2,
       "version_minor": 0
      },
      "text/plain": [
       "  0%|          | 0/56 [00:00<?, ?it/s]"
      ]
     },
     "metadata": {},
     "output_type": "display_data"
    }
   ],
   "source": [
    "session = tf.Session(config=None, graph=graph)\n",
    "session.run(init)\n",
    "\n",
    "np.random.seed(0)\n",
    "\n",
    "for i in range(10):\n",
    "    train_idx_shuffle = np.arange(uid.shape[0])\n",
    "    np.random.shuffle(train_idx_shuffle)\n",
    "    batches = prepare_batches(train_idx_shuffle, 5000)\n",
    "\n",
    "    progress = tqdm(total=len(batches))\n",
    "    for idx in batches:\n",
    "        pos_samples = len(idx)\n",
    "        neg_samples = pos_samples * K \n",
    "\n",
    "        label = np.concatenate([\n",
    "                    np.ones(pos_samples, dtype='float32'), \n",
    "                    np.zeros(neg_samples, dtype='float32')\n",
    "                ]).reshape(-1, 1)\n",
    "\n",
    "        neg_users = np.random.randint(low=0, high=num_users, \n",
    "                                      size=neg_samples, dtype='int32')\n",
    "        neg_items = np.random.randint(low=0, high=num_items,\n",
    "                                      size=neg_samples, dtype='int32')\n",
    "\n",
    "        batch_uid = np.concatenate([uid[idx], neg_users]).reshape(-1, 1)\n",
    "        batch_iid = np.concatenate([iid[idx], neg_items]).reshape(-1, 1)\n",
    "\n",
    "        feed_dict = {\n",
    "            place_user: batch_uid,\n",
    "            place_item: batch_iid,\n",
    "            place_y: label,\n",
    "        }\n",
    "        _, l = session.run([step, loss], feed_dict)\n",
    "        \n",
    "        progress.update(1)\n",
    "        progress.set_description('%.3f' % l)\n",
    "    progress.close()\n",
    "\n",
    "#     val_precision = calculate_validation_precision(graph, session, uid_val)\n",
    "#     print('epoch %02d: precision: %.3f' % (i+1, val_precision))"
   ]
  },
  {
   "cell_type": "code",
   "execution_count": 75,
   "id": "f7d1d2de",
   "metadata": {},
   "outputs": [],
   "source": [
    "# from tensorflow.python.summary.writer import writer\n",
    "\n",
    "# with tf.Graph().as_default():\n",
    "#     writer = writer.FileWriter('./mygraph',session.graph)"
   ]
  },
  {
   "cell_type": "markdown",
   "id": "f580edca",
   "metadata": {},
   "source": [
    "###  방법4-베이시안 랭크를 이용"
   ]
  },
  {
   "cell_type": "code",
   "execution_count": null,
   "id": "01027750",
   "metadata": {},
   "outputs": [],
   "source": [
    "num_factors = 128\n",
    "lambda_user = 0.0000001\n",
    "lambda_item = 0.0000001\n",
    "lambda_bias = 0.0000001\n",
    "lr = 0.0005"
   ]
  },
  {
   "cell_type": "code",
   "execution_count": null,
   "id": "745f21a9",
   "metadata": {},
   "outputs": [],
   "source": [
    "def init_variable(size, dim, name=None):\n",
    "    std = np.sqrt(2 / dim)\n",
    "    return tf.Variable(tf.random_uniform([size, dim], -std, std), name=name)\n",
    "\n",
    "def embed(inputs, size, dim, name=None):\n",
    "    emb = init_variable(size, dim, name)\n",
    "    return tf.nn.embedding_lookup(emb, inputs)\n",
    "\n",
    "graph = tf.Graph()\n",
    "graph.seed = 1\n",
    "\n",
    "with graph.as_default():\n",
    "    place_user = tf.placeholder(tf.int32, shape=(None, 1))\n",
    "    place_item_pos = tf.placeholder(tf.int32, shape=(None, 1))\n",
    "    place_item_neg = tf.placeholder(tf.int32, shape=(None, 1))\n",
    "\n",
    "    user_factors = embed(place_user, num_users, num_factors, \"user_factors\")\n",
    "    item_factors = init_variable(num_items, num_factors, \"item_factors\")\n",
    "    item_factors_pos = tf.nn.embedding_lookup(item_factors, place_item_pos)\n",
    "    item_factors_neg = tf.nn.embedding_lookup(item_factors, place_item_neg)\n",
    "\n",
    "    item_bias = init_variable(num_items, 1, \"item_bias\")\n",
    "    item_bias_pos = tf.nn.embedding_lookup(item_bias, place_item_pos)\n",
    "    item_bias_pos = tf.reshape(item_bias_pos, [-1, 1])\n",
    "    item_bias_neg = tf.nn.embedding_lookup(item_bias, place_item_neg)\n",
    "    item_bias_neg = tf.reshape(item_bias_neg, [-1, 1])\n",
    "\n",
    "    pred_pos = item_bias_pos + tf.reduce_sum(user_factors * item_factors_pos, axis=2)\n",
    "    pred_neg = item_bias_neg + tf.reduce_sum(user_factors * item_factors_neg, axis=2)\n",
    "\n",
    "    pred_diff = pred_pos - pred_neg\n",
    "\n",
    "    loss_bpr = - tf.reduce_mean(tf.log(tf.sigmoid(pred_diff)))\n",
    "    loss_reg = lambda_user * tf.reduce_sum(user_factors * user_factors) + \\\n",
    "          lambda_item * tf.reduce_sum(item_factors_pos * item_factors_pos) + \\\n",
    "          lambda_item * tf.reduce_sum(item_factors_neg * item_factors_neg) + \\\n",
    "          lambda_bias * tf.reduce_sum(item_bias_pos) + \\\n",
    "          lambda_bias * tf.reduce_sum(item_bias_neg)\n",
    "        \n",
    "    loss_total = loss_bpr + loss_reg\n",
    "\n",
    "    opt = tf.train.AdamOptimizer(learning_rate=lr)\n",
    "    step = opt.minimize(loss_total)\n",
    "\n",
    "    init = tf.global_variables_initializer()"
   ]
  },
  {
   "cell_type": "code",
   "execution_count": null,
   "id": "820beeee",
   "metadata": {},
   "outputs": [],
   "source": [
    "session = tf.Session(config=None, graph=graph)\n",
    "session.run(init)\n",
    "\n",
    "size_total = uid.shape[0]\n",
    "size_sample = 15000\n",
    "\n",
    "np.random.seed(0)\n",
    "\n",
    "for i in range(100):\n",
    "    for k in range(30):\n",
    "        idx = np.random.randint(low=0, high=size_total, size=size_sample)\n",
    "\n",
    "        batch_uid = uid[idx].reshape(-1, 1)\n",
    "        batch_iid_pos = iid[idx].reshape(-1, 1)\n",
    "        batch_iid_neg = np.random.randint(\n",
    "            low=0, high=num_items, size=(size_sample, 1), dtype='int32')\n",
    "\n",
    "        feed_dict = {\n",
    "            place_user: batch_uid,\n",
    "            place_item_pos: batch_iid_pos,\n",
    "            place_item_neg: batch_iid_neg,\n",
    "        }\n",
    "        _, l = session.run([step, loss_bpr], feed_dict)\n",
    "\n",
    "    val_precision = calculate_validation_precision(graph, session, uid_val)\n",
    "    print('epoch %02d: recall: %.3f' % (i+1, val_precision))"
   ]
  }
 ],
 "metadata": {
  "kernelspec": {
   "display_name": "tf24",
   "language": "python",
   "name": "tf24"
  },
  "language_info": {
   "codemirror_mode": {
    "name": "ipython",
    "version": 3
   },
   "file_extension": ".py",
   "mimetype": "text/x-python",
   "name": "python",
   "nbconvert_exporter": "python",
   "pygments_lexer": "ipython3",
   "version": "3.8.6"
  }
 },
 "nbformat": 4,
 "nbformat_minor": 5
}
