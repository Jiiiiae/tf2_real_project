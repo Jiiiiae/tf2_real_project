{
 "cells": [
  {
   "cell_type": "code",
   "execution_count": 5,
   "id": "bb5ffb14",
   "metadata": {},
   "outputs": [],
   "source": [
    "import pickle\n",
    "\n",
    "import pandas as pd\n",
    "import numpy as np\n",
    "import scipy.sparse as sp\n",
    "\n",
    "from tqdm import tqdm_notebook as tqdm\n",
    "\n",
    "from numba import jit, njit"
   ]
  },
  {
   "cell_type": "markdown",
   "id": "5d807334",
   "metadata": {},
   "source": [
    "기존의 pickle data 불러오기"
   ]
  },
  {
   "cell_type": "code",
   "execution_count": 8,
   "id": "df05c89b",
   "metadata": {},
   "outputs": [],
   "source": [
    "with open('online_retail.bin','rb') as f_in :\n",
    "    df = pickle.load(f_in)"
   ]
  },
  {
   "cell_type": "code",
   "execution_count": 14,
   "id": "175d5e4f",
   "metadata": {},
   "outputs": [],
   "source": [
    "df.columns = df.columns.str.lower()\n",
    "df = df[~df.invoiceno.astype('str').str.startswith('C')].reset_index(drop=True)\n",
    "df.customerid = df.customerid.fillna(-1).astype('int32')"
   ]
  },
  {
   "cell_type": "markdown",
   "id": "e8831e9f",
   "metadata": {},
   "source": [
    "sequece 처리를 위한 전처리"
   ]
  },
  {
   "cell_type": "code",
   "execution_count": 26,
   "id": "16d7da3b",
   "metadata": {},
   "outputs": [],
   "source": [
    "class LabelEncoder:\n",
    "    def fit(self, seq):\n",
    "        self.vocab = sorted(set(seq))\n",
    "        self.idx = {c: i+1 for i, c in enumerate(self.vocab)}\n",
    "    \n",
    "    def vocab_size(self):\n",
    "        return len(self.vocab) + 1\n",
    "    \n",
    "    def transfrom(self,seq):\n",
    "        n = len(seq)\n",
    "        result = np.zeros(n, dtype='int32')\n",
    "        \n",
    "        for i in range(n):\n",
    "            result[i] = self.idx.get(seq[i],0)\n",
    "            \n",
    "        return result\n",
    "    \n",
    "    def fit_transform(self, seq):\n",
    "        self.fit(seq)\n",
    "        return self.transfrom(seq)"
   ]
  },
  {
   "cell_type": "code",
   "execution_count": 20,
   "id": "1f36759b",
   "metadata": {},
   "outputs": [],
   "source": [
    "item_enc = LabelEncoder()\n",
    "df.stockcode = item_enc.fit_transform(df.stockcode.astype('str'))\n",
    "df.stockcode = df.stockcode.astype('int32')"
   ]
  },
  {
   "cell_type": "markdown",
   "id": "62168e26",
   "metadata": {},
   "source": [
    "훈련, 테스트 set 분리"
   ]
  },
  {
   "cell_type": "code",
   "execution_count": 40,
   "id": "5d2f7995",
   "metadata": {},
   "outputs": [],
   "source": [
    "df_train = df[df.invoicedate < '2011-10-09'].reset_index(drop=True)\n",
    "df_val = df[(df.invoicedate >= '2011-10-09') & (df.invoicedate \n",
    "                                               <= '2011-11-09')].reset_index(drop=True)\n",
    "df_test = df[df.invoicedate >= '2011-11-09'].reset_index(drop=True)\n",
    "#reset_index : 기존의 0~ 정수형 인덱스를 다시 넣어줌.\n",
    "#drop=True는 리셋하기 전의 인덱스를 버리고 새로이 하는 것"
   ]
  },
  {
   "cell_type": "code",
   "execution_count": 41,
   "id": "3c31dd58",
   "metadata": {},
   "outputs": [
    {
     "data": {
      "text/plain": [
       "((378470, 8), (64460, 8), (89691, 8))"
      ]
     },
     "execution_count": 41,
     "metadata": {},
     "output_type": "execute_result"
    }
   ],
   "source": [
    "df_train.shape, df_val.shape, df_test.shape"
   ]
  },
  {
   "cell_type": "code",
   "execution_count": 30,
   "id": "410d5104",
   "metadata": {},
   "outputs": [],
   "source": [
    "user_enc = LabelEncoder()\n",
    "user_enc.fit(df_train[df_train.customerid != -1].customerid)\n",
    "\n",
    "df_train.customerid = user_enc.transfrom(df_train.customerid)\n",
    "df_val.customerid = user_enc.transfrom(df_val.customerid)"
   ]
  },
  {
   "cell_type": "code",
   "execution_count": 46,
   "id": "a6fe142a",
   "metadata": {},
   "outputs": [],
   "source": [
    "uid_train = df_train.drop_duplicates(subset='invoiceno').customerid.values\n",
    "uid_val = df_val.drop_duplicates(subset='invoiceno').customerid.values\n",
    "#drop_duplicates(subset=None, keep=first) : 중복값 제거\n",
    "#subse= 중복 제거할 columns 특정 (원래는 모두 다)\n",
    "#keep=first : 중복값 있을 시 첫 번째 것만 사용"
   ]
  },
  {
   "cell_type": "code",
   "execution_count": 48,
   "id": "96ad3027",
   "metadata": {},
   "outputs": [],
   "source": [
    "def group_indptr(df):\n",
    "    indptr, = np.where(df.invoiceno != df.invoiceno.shift())\n",
    "    #shift(n) : n칸 미는\n",
    "    indptr = np.append(indptr, len(df)).astype('int32')\n",
    "    return indptr\n",
    "\n",
    "indptr_train = group_indptr(df_train)\n",
    "indptr_val = group_indptr(df_val)"
   ]
  },
  {
   "cell_type": "code",
   "execution_count": 59,
   "id": "fa4bb08b",
   "metadata": {},
   "outputs": [],
   "source": [
    "from collections import Counter\n",
    "top_train = Counter(df_train.stockcode) #히스토그램처럼 세주는"
   ]
  },
  {
   "cell_type": "markdown",
   "id": "d7d0b766",
   "metadata": {},
   "source": [
    "simple baseline"
   ]
  },
  {
   "cell_type": "code",
   "execution_count": 73,
   "id": "546f0320",
   "metadata": {},
   "outputs": [],
   "source": [
    "def baseline(uid, indptr, items, top, k=5):\n",
    "    n_groups = len(uid)\n",
    "    n_items = len(items)\n",
    "    \n",
    "    pred_all = np.zeros((n_items,k), dtype='int32')\n",
    "    \n",
    "    for g in range(n_groups):\n",
    "        t = top.copy()\n",
    "        \n",
    "        start = indptr[g]\n",
    "        end = indptr[g+1]\n",
    "        \n",
    "        for i in range(start, end):\n",
    "            pred = [k for (k, c) in t.most_common(5)]\n",
    "            pred_all[i] = pred\n",
    "            \n",
    "            actual = items[i]\n",
    "            if actual in t:\n",
    "                del t[actual]\n",
    "            #추천된 항목 중 하나를 사용자가 구매했다면 제거하는 코드    \n",
    "                \n",
    "                \n",
    "    return pred_all"
   ]
  },
  {
   "cell_type": "code",
   "execution_count": 74,
   "id": "803a6d2d",
   "metadata": {},
   "outputs": [],
   "source": [
    "iid_val = df_val.stockcode.values\n",
    "pred_baseline = baseline(uid_val, indptr_val, iid_val, top_train, k=5)"
   ]
  },
  {
   "cell_type": "code",
   "execution_count": 76,
   "id": "38681309",
   "metadata": {},
   "outputs": [],
   "source": [
    "@njit\n",
    "\n",
    "def accuracy_k(y_true, y_pred):\n",
    "    n, k = y_pred.shape\n",
    "    \n",
    "    acc = 0\n",
    "    \n",
    "    for i in range(n):\n",
    "        for j in range(k):\n",
    "            if y_pred[i,j] == y_true[i]:\n",
    "                acc = acc + 1\n",
    "                break\n",
    "                \n",
    "    return acc/n"
   ]
  },
  {
   "cell_type": "code",
   "execution_count": 77,
   "id": "ba95a906",
   "metadata": {},
   "outputs": [
    {
     "data": {
      "text/plain": [
       "0.012705553831833695"
      ]
     },
     "execution_count": 77,
     "metadata": {},
     "output_type": "execute_result"
    }
   ],
   "source": [
    "accuracy_k(iid_val, pred_baseline)"
   ]
  },
  {
   "cell_type": "markdown",
   "id": "fddaef33",
   "metadata": {},
   "source": [
    "개선해보자! RNN naive model"
   ]
  },
  {
   "cell_type": "markdown",
   "id": "36646033",
   "metadata": {},
   "source": [
    "데이터 준비"
   ]
  },
  {
   "cell_type": "code",
   "execution_count": 78,
   "id": "2278bfea",
   "metadata": {},
   "outputs": [],
   "source": [
    "def pack_items(users, items_indptr, items_vals):\n",
    "    n = len(items_indptr) - 1\n",
    "    \n",
    "    result = []\n",
    "    for i in range(n):\n",
    "        start = items_indptr[i]\n",
    "        end = items_indptr[i+1]\n",
    "        result.append(items_vals[start:end])\n",
    "    return result"
   ]
  },
  {
   "cell_type": "code",
   "execution_count": 89,
   "id": "c1debe54",
   "metadata": {},
   "outputs": [],
   "source": [
    "train_items = pack_items(indptr_train, indptr_train, df_train.stockcode.values)\n",
    "\n",
    "df_train_wrap = pd.DataFrame()\n",
    "df_train_wrap['customerid'] = uid_train\n",
    "df_train_wrap['items'] = train_items"
   ]
  },
  {
   "cell_type": "code",
   "execution_count": 90,
   "id": "70d9c423",
   "metadata": {},
   "outputs": [
    {
     "data": {
      "text/html": [
       "<div>\n",
       "<style scoped>\n",
       "    .dataframe tbody tr th:only-of-type {\n",
       "        vertical-align: middle;\n",
       "    }\n",
       "\n",
       "    .dataframe tbody tr th {\n",
       "        vertical-align: top;\n",
       "    }\n",
       "\n",
       "    .dataframe thead th {\n",
       "        text-align: right;\n",
       "    }\n",
       "</style>\n",
       "<table border=\"1\" class=\"dataframe\">\n",
       "  <thead>\n",
       "    <tr style=\"text-align: right;\">\n",
       "      <th></th>\n",
       "      <th>customerid</th>\n",
       "      <th>items</th>\n",
       "    </tr>\n",
       "  </thead>\n",
       "  <tbody>\n",
       "    <tr>\n",
       "      <th>0</th>\n",
       "      <td>17850</td>\n",
       "      <td>[3528, 2792, 3041, 2982, 2981, 1662, 800]</td>\n",
       "    </tr>\n",
       "    <tr>\n",
       "      <th>1</th>\n",
       "      <td>17850</td>\n",
       "      <td>[1547, 1546]</td>\n",
       "    </tr>\n",
       "    <tr>\n",
       "      <th>2</th>\n",
       "      <td>13047</td>\n",
       "      <td>[3301, 1655, 1658, 1659, 1247, 3368, 1537, 153...</td>\n",
       "    </tr>\n",
       "    <tr>\n",
       "      <th>3</th>\n",
       "      <td>13047</td>\n",
       "      <td>[1862, 1816, 1815, 1817]</td>\n",
       "    </tr>\n",
       "    <tr>\n",
       "      <th>4</th>\n",
       "      <td>13047</td>\n",
       "      <td>[818]</td>\n",
       "    </tr>\n",
       "  </tbody>\n",
       "</table>\n",
       "</div>"
      ],
      "text/plain": [
       "   customerid                                              items\n",
       "0       17850          [3528, 2792, 3041, 2982, 2981, 1662, 800]\n",
       "1       17850                                       [1547, 1546]\n",
       "2       13047  [3301, 1655, 1658, 1659, 1247, 3368, 1537, 153...\n",
       "3       13047                           [1862, 1816, 1815, 1817]\n",
       "4       13047                                              [818]"
      ]
     },
     "execution_count": 90,
     "metadata": {},
     "output_type": "execute_result"
    }
   ],
   "source": [
    "df_train_wrap.head()"
   ]
  },
  {
   "cell_type": "markdown",
   "id": "ba341ba9",
   "metadata": {},
   "source": [
    "시퀀스 길이가 다름, 패딩을 통해 고정 길이로 만들어주는 동시에\n",
    "RNN에서 쓰일 X,Y 쌍도 만들어 줄 것임"
   ]
  },
  {
   "cell_type": "code",
   "execution_count": 92,
   "id": "3ad0b751",
   "metadata": {},
   "outputs": [],
   "source": [
    "def pad_seq(data, num_steps):\n",
    "    data = np.pad(data, pad_width =(1,0), mode='constant')\n",
    "    \n",
    "    n = len(data)\n",
    "    \n",
    "    if n <= num_steps:\n",
    "        pad_right = num_steps - n + 1\n",
    "        data = np.pad(data, pad_width=(0,pad_right),mode='constant')\n",
    "        \n",
    "    return data\n",
    "\n",
    "def prepare_train_data(data, num_steps):\n",
    "    data = pad_seq(data, num_steps)\n",
    "    \n",
    "    X = []\n",
    "    Y = []\n",
    "    \n",
    "    for i in range(num_steps, len(data)):\n",
    "        start = i - num_steps\n",
    "        X.append(data[start:i])\n",
    "        Y.append(data[start+1:i+1])\n",
    "        \n",
    "    return X, Y"
   ]
  },
  {
   "cell_type": "code",
   "execution_count": 93,
   "id": "e8fb2bab",
   "metadata": {},
   "outputs": [],
   "source": [
    "import tensorflow as tf"
   ]
  },
  {
   "cell_type": "code",
   "execution_count": 94,
   "id": "d787294f",
   "metadata": {},
   "outputs": [],
   "source": [
    "class Config:\n",
    "    num_steps = 5\n",
    "    \n",
    "    num_items = item_enc.vocab_size()\n",
    "    num_users = user_enc.vocab_size()\n",
    "    \n",
    "    learning_rate = 1.0\n",
    "    hidden_size = 200\n",
    "    embedding_Size = 200\n",
    "    batch_size = 20\n",
    "    \n",
    "config = Config()"
   ]
  },
  {
   "cell_type": "code",
   "execution_count": 99,
   "id": "b087278c",
   "metadata": {},
   "outputs": [
    {
     "data": {
      "text/plain": [
       "4060"
      ]
     },
     "execution_count": 99,
     "metadata": {},
     "output_type": "execute_result"
    }
   ],
   "source": [
    "config.num_items"
   ]
  },
  {
   "cell_type": "code",
   "execution_count": 95,
   "id": "dfd780de",
   "metadata": {},
   "outputs": [],
   "source": [
    "train_items = df_train_wrap['items']\n",
    "\n",
    "X_train = []\n",
    "Y_train = []\n",
    "\n",
    "for i in range(len(train_items)):\n",
    "    X, Y = prepare_train_data(train_items[i], config.num_steps)\n",
    "    \n",
    "    X_train.extend(X)\n",
    "    Y_train.extend(Y)\n",
    "    \n",
    "X_train = np.array(X_train, dtype='int32')\n",
    "Y_train = np.array(Y_train, dtype='int32')"
   ]
  },
  {
   "cell_type": "code",
   "execution_count": 98,
   "id": "100403b1",
   "metadata": {},
   "outputs": [],
   "source": [
    "model = tf.keras.Sequential()"
   ]
  },
  {
   "cell_type": "code",
   "execution_count": 100,
   "id": "89fb656f",
   "metadata": {},
   "outputs": [
    {
     "ename": "ValueError",
     "evalue": "Input 0 of layer lstm_1 is incompatible with the layer: expected ndim=3, found ndim=2. Full shape received: (None, 200)",
     "output_type": "error",
     "traceback": [
      "\u001b[0;31m---------------------------------------------------------------------------\u001b[0m",
      "\u001b[0;31mValueError\u001b[0m                                Traceback (most recent call last)",
      "\u001b[0;32m/var/folders/d9/j4fzl6g10m97nw0c5yzh_bh40000gn/T/ipykernel_7001/3343549810.py\u001b[0m in \u001b[0;36m<module>\u001b[0;34m\u001b[0m\n\u001b[1;32m      1\u001b[0m \u001b[0mmodel\u001b[0m\u001b[0;34m.\u001b[0m\u001b[0madd\u001b[0m\u001b[0;34m(\u001b[0m\u001b[0mtf\u001b[0m\u001b[0;34m.\u001b[0m\u001b[0mkeras\u001b[0m\u001b[0;34m.\u001b[0m\u001b[0mlayers\u001b[0m\u001b[0;34m.\u001b[0m\u001b[0mEmbedding\u001b[0m\u001b[0;34m(\u001b[0m\u001b[0;36m5000\u001b[0m\u001b[0;34m,\u001b[0m \u001b[0;36m200\u001b[0m\u001b[0;34m,\u001b[0m \u001b[0minput_length\u001b[0m\u001b[0;34m=\u001b[0m\u001b[0;36m5\u001b[0m\u001b[0;34m)\u001b[0m\u001b[0;34m)\u001b[0m\u001b[0;34m\u001b[0m\u001b[0;34m\u001b[0m\u001b[0m\n\u001b[1;32m      2\u001b[0m \u001b[0mmodel\u001b[0m\u001b[0;34m.\u001b[0m\u001b[0madd\u001b[0m\u001b[0;34m(\u001b[0m\u001b[0mtf\u001b[0m\u001b[0;34m.\u001b[0m\u001b[0mkeras\u001b[0m\u001b[0;34m.\u001b[0m\u001b[0mlayers\u001b[0m\u001b[0;34m.\u001b[0m\u001b[0mLSTM\u001b[0m\u001b[0;34m(\u001b[0m\u001b[0;36m200\u001b[0m\u001b[0;34m)\u001b[0m\u001b[0;34m)\u001b[0m\u001b[0;34m\u001b[0m\u001b[0;34m\u001b[0m\u001b[0m\n\u001b[0;32m----> 3\u001b[0;31m \u001b[0mmodel\u001b[0m\u001b[0;34m.\u001b[0m\u001b[0madd\u001b[0m\u001b[0;34m(\u001b[0m\u001b[0mtf\u001b[0m\u001b[0;34m.\u001b[0m\u001b[0mkeras\u001b[0m\u001b[0;34m.\u001b[0m\u001b[0mlayers\u001b[0m\u001b[0;34m.\u001b[0m\u001b[0mLSTM\u001b[0m\u001b[0;34m(\u001b[0m\u001b[0;36m200\u001b[0m\u001b[0;34m)\u001b[0m\u001b[0;34m)\u001b[0m\u001b[0;34m\u001b[0m\u001b[0;34m\u001b[0m\u001b[0m\n\u001b[0m\u001b[1;32m      4\u001b[0m model.add(tf.keras.layers.TimeDistributed(tf.keras.layers.Dense(config.num_items, \n\u001b[1;32m      5\u001b[0m                                                                activation='softmax')))\n",
      "\u001b[0;32m/opt/homebrew/Caskroom/miniforge/base/envs/tf24/lib/python3.8/site-packages/tensorflow/python/training/tracking/base.py\u001b[0m in \u001b[0;36m_method_wrapper\u001b[0;34m(self, *args, **kwargs)\u001b[0m\n\u001b[1;32m    515\u001b[0m     \u001b[0mself\u001b[0m\u001b[0;34m.\u001b[0m\u001b[0m_self_setattr_tracking\u001b[0m \u001b[0;34m=\u001b[0m \u001b[0;32mFalse\u001b[0m  \u001b[0;31m# pylint: disable=protected-access\u001b[0m\u001b[0;34m\u001b[0m\u001b[0;34m\u001b[0m\u001b[0m\n\u001b[1;32m    516\u001b[0m     \u001b[0;32mtry\u001b[0m\u001b[0;34m:\u001b[0m\u001b[0;34m\u001b[0m\u001b[0;34m\u001b[0m\u001b[0m\n\u001b[0;32m--> 517\u001b[0;31m       \u001b[0mresult\u001b[0m \u001b[0;34m=\u001b[0m \u001b[0mmethod\u001b[0m\u001b[0;34m(\u001b[0m\u001b[0mself\u001b[0m\u001b[0;34m,\u001b[0m \u001b[0;34m*\u001b[0m\u001b[0margs\u001b[0m\u001b[0;34m,\u001b[0m \u001b[0;34m**\u001b[0m\u001b[0mkwargs\u001b[0m\u001b[0;34m)\u001b[0m\u001b[0;34m\u001b[0m\u001b[0;34m\u001b[0m\u001b[0m\n\u001b[0m\u001b[1;32m    518\u001b[0m     \u001b[0;32mfinally\u001b[0m\u001b[0;34m:\u001b[0m\u001b[0;34m\u001b[0m\u001b[0;34m\u001b[0m\u001b[0m\n\u001b[1;32m    519\u001b[0m       \u001b[0mself\u001b[0m\u001b[0;34m.\u001b[0m\u001b[0m_self_setattr_tracking\u001b[0m \u001b[0;34m=\u001b[0m \u001b[0mprevious_value\u001b[0m  \u001b[0;31m# pylint: disable=protected-access\u001b[0m\u001b[0;34m\u001b[0m\u001b[0;34m\u001b[0m\u001b[0m\n",
      "\u001b[0;32m/opt/homebrew/Caskroom/miniforge/base/envs/tf24/lib/python3.8/site-packages/tensorflow/python/keras/engine/sequential.py\u001b[0m in \u001b[0;36madd\u001b[0;34m(self, layer)\u001b[0m\n\u001b[1;32m    221\u001b[0m       \u001b[0;31m# If the model is being built continuously on top of an input layer:\u001b[0m\u001b[0;34m\u001b[0m\u001b[0;34m\u001b[0m\u001b[0;34m\u001b[0m\u001b[0m\n\u001b[1;32m    222\u001b[0m       \u001b[0;31m# refresh its output.\u001b[0m\u001b[0;34m\u001b[0m\u001b[0;34m\u001b[0m\u001b[0;34m\u001b[0m\u001b[0m\n\u001b[0;32m--> 223\u001b[0;31m       \u001b[0moutput_tensor\u001b[0m \u001b[0;34m=\u001b[0m \u001b[0mlayer\u001b[0m\u001b[0;34m(\u001b[0m\u001b[0mself\u001b[0m\u001b[0;34m.\u001b[0m\u001b[0moutputs\u001b[0m\u001b[0;34m[\u001b[0m\u001b[0;36m0\u001b[0m\u001b[0;34m]\u001b[0m\u001b[0;34m)\u001b[0m\u001b[0;34m\u001b[0m\u001b[0;34m\u001b[0m\u001b[0m\n\u001b[0m\u001b[1;32m    224\u001b[0m       \u001b[0;32mif\u001b[0m \u001b[0mlen\u001b[0m\u001b[0;34m(\u001b[0m\u001b[0mnest\u001b[0m\u001b[0;34m.\u001b[0m\u001b[0mflatten\u001b[0m\u001b[0;34m(\u001b[0m\u001b[0moutput_tensor\u001b[0m\u001b[0;34m)\u001b[0m\u001b[0;34m)\u001b[0m \u001b[0;34m!=\u001b[0m \u001b[0;36m1\u001b[0m\u001b[0;34m:\u001b[0m\u001b[0;34m\u001b[0m\u001b[0;34m\u001b[0m\u001b[0m\n\u001b[1;32m    225\u001b[0m         \u001b[0;32mraise\u001b[0m \u001b[0mValueError\u001b[0m\u001b[0;34m(\u001b[0m\u001b[0mSINGLE_LAYER_OUTPUT_ERROR_MSG\u001b[0m\u001b[0;34m)\u001b[0m\u001b[0;34m\u001b[0m\u001b[0;34m\u001b[0m\u001b[0m\n",
      "\u001b[0;32m/opt/homebrew/Caskroom/miniforge/base/envs/tf24/lib/python3.8/site-packages/tensorflow/python/keras/layers/recurrent.py\u001b[0m in \u001b[0;36m__call__\u001b[0;34m(self, inputs, initial_state, constants, **kwargs)\u001b[0m\n\u001b[1;32m    658\u001b[0m \u001b[0;34m\u001b[0m\u001b[0m\n\u001b[1;32m    659\u001b[0m     \u001b[0;32mif\u001b[0m \u001b[0minitial_state\u001b[0m \u001b[0;32mis\u001b[0m \u001b[0;32mNone\u001b[0m \u001b[0;32mand\u001b[0m \u001b[0mconstants\u001b[0m \u001b[0;32mis\u001b[0m \u001b[0;32mNone\u001b[0m\u001b[0;34m:\u001b[0m\u001b[0;34m\u001b[0m\u001b[0;34m\u001b[0m\u001b[0m\n\u001b[0;32m--> 660\u001b[0;31m       \u001b[0;32mreturn\u001b[0m \u001b[0msuper\u001b[0m\u001b[0;34m(\u001b[0m\u001b[0mRNN\u001b[0m\u001b[0;34m,\u001b[0m \u001b[0mself\u001b[0m\u001b[0;34m)\u001b[0m\u001b[0;34m.\u001b[0m\u001b[0m__call__\u001b[0m\u001b[0;34m(\u001b[0m\u001b[0minputs\u001b[0m\u001b[0;34m,\u001b[0m \u001b[0;34m**\u001b[0m\u001b[0mkwargs\u001b[0m\u001b[0;34m)\u001b[0m\u001b[0;34m\u001b[0m\u001b[0;34m\u001b[0m\u001b[0m\n\u001b[0m\u001b[1;32m    661\u001b[0m \u001b[0;34m\u001b[0m\u001b[0m\n\u001b[1;32m    662\u001b[0m     \u001b[0;31m# If any of `initial_state` or `constants` are specified and are Keras\u001b[0m\u001b[0;34m\u001b[0m\u001b[0;34m\u001b[0m\u001b[0;34m\u001b[0m\u001b[0m\n",
      "\u001b[0;32m/opt/homebrew/Caskroom/miniforge/base/envs/tf24/lib/python3.8/site-packages/tensorflow/python/keras/engine/base_layer.py\u001b[0m in \u001b[0;36m__call__\u001b[0;34m(self, *args, **kwargs)\u001b[0m\n\u001b[1;32m    944\u001b[0m     \u001b[0;31m# >> model = tf.keras.Model(inputs, outputs)\u001b[0m\u001b[0;34m\u001b[0m\u001b[0;34m\u001b[0m\u001b[0;34m\u001b[0m\u001b[0m\n\u001b[1;32m    945\u001b[0m     \u001b[0;32mif\u001b[0m \u001b[0m_in_functional_construction_mode\u001b[0m\u001b[0;34m(\u001b[0m\u001b[0mself\u001b[0m\u001b[0;34m,\u001b[0m \u001b[0minputs\u001b[0m\u001b[0;34m,\u001b[0m \u001b[0margs\u001b[0m\u001b[0;34m,\u001b[0m \u001b[0mkwargs\u001b[0m\u001b[0;34m,\u001b[0m \u001b[0minput_list\u001b[0m\u001b[0;34m)\u001b[0m\u001b[0;34m:\u001b[0m\u001b[0;34m\u001b[0m\u001b[0;34m\u001b[0m\u001b[0m\n\u001b[0;32m--> 946\u001b[0;31m       return self._functional_construction_call(inputs, args, kwargs,\n\u001b[0m\u001b[1;32m    947\u001b[0m                                                 input_list)\n\u001b[1;32m    948\u001b[0m \u001b[0;34m\u001b[0m\u001b[0m\n",
      "\u001b[0;32m/opt/homebrew/Caskroom/miniforge/base/envs/tf24/lib/python3.8/site-packages/tensorflow/python/keras/engine/base_layer.py\u001b[0m in \u001b[0;36m_functional_construction_call\u001b[0;34m(self, inputs, args, kwargs, input_list)\u001b[0m\n\u001b[1;32m   1083\u001b[0m           layer=self, inputs=inputs, build_graph=True, training=training_value):\n\u001b[1;32m   1084\u001b[0m         \u001b[0;31m# Check input assumptions set after layer building, e.g. input shape.\u001b[0m\u001b[0;34m\u001b[0m\u001b[0;34m\u001b[0m\u001b[0;34m\u001b[0m\u001b[0m\n\u001b[0;32m-> 1085\u001b[0;31m         outputs = self._keras_tensor_symbolic_call(\n\u001b[0m\u001b[1;32m   1086\u001b[0m             inputs, input_masks, args, kwargs)\n\u001b[1;32m   1087\u001b[0m \u001b[0;34m\u001b[0m\u001b[0m\n",
      "\u001b[0;32m/opt/homebrew/Caskroom/miniforge/base/envs/tf24/lib/python3.8/site-packages/tensorflow/python/keras/engine/base_layer.py\u001b[0m in \u001b[0;36m_keras_tensor_symbolic_call\u001b[0;34m(self, inputs, input_masks, args, kwargs)\u001b[0m\n\u001b[1;32m    815\u001b[0m       \u001b[0;32mreturn\u001b[0m \u001b[0mnest\u001b[0m\u001b[0;34m.\u001b[0m\u001b[0mmap_structure\u001b[0m\u001b[0;34m(\u001b[0m\u001b[0mkeras_tensor\u001b[0m\u001b[0;34m.\u001b[0m\u001b[0mKerasTensor\u001b[0m\u001b[0;34m,\u001b[0m \u001b[0moutput_signature\u001b[0m\u001b[0;34m)\u001b[0m\u001b[0;34m\u001b[0m\u001b[0;34m\u001b[0m\u001b[0m\n\u001b[1;32m    816\u001b[0m     \u001b[0;32melse\u001b[0m\u001b[0;34m:\u001b[0m\u001b[0;34m\u001b[0m\u001b[0;34m\u001b[0m\u001b[0m\n\u001b[0;32m--> 817\u001b[0;31m       \u001b[0;32mreturn\u001b[0m \u001b[0mself\u001b[0m\u001b[0;34m.\u001b[0m\u001b[0m_infer_output_signature\u001b[0m\u001b[0;34m(\u001b[0m\u001b[0minputs\u001b[0m\u001b[0;34m,\u001b[0m \u001b[0margs\u001b[0m\u001b[0;34m,\u001b[0m \u001b[0mkwargs\u001b[0m\u001b[0;34m,\u001b[0m \u001b[0minput_masks\u001b[0m\u001b[0;34m)\u001b[0m\u001b[0;34m\u001b[0m\u001b[0;34m\u001b[0m\u001b[0m\n\u001b[0m\u001b[1;32m    818\u001b[0m \u001b[0;34m\u001b[0m\u001b[0m\n\u001b[1;32m    819\u001b[0m   \u001b[0;32mdef\u001b[0m \u001b[0m_infer_output_signature\u001b[0m\u001b[0;34m(\u001b[0m\u001b[0mself\u001b[0m\u001b[0;34m,\u001b[0m \u001b[0minputs\u001b[0m\u001b[0;34m,\u001b[0m \u001b[0margs\u001b[0m\u001b[0;34m,\u001b[0m \u001b[0mkwargs\u001b[0m\u001b[0;34m,\u001b[0m \u001b[0minput_masks\u001b[0m\u001b[0;34m)\u001b[0m\u001b[0;34m:\u001b[0m\u001b[0;34m\u001b[0m\u001b[0;34m\u001b[0m\u001b[0m\n",
      "\u001b[0;32m/opt/homebrew/Caskroom/miniforge/base/envs/tf24/lib/python3.8/site-packages/tensorflow/python/keras/engine/base_layer.py\u001b[0m in \u001b[0;36m_infer_output_signature\u001b[0;34m(self, inputs, args, kwargs, input_masks)\u001b[0m\n\u001b[1;32m    855\u001b[0m           \u001b[0;31m# overridden).\u001b[0m\u001b[0;34m\u001b[0m\u001b[0;34m\u001b[0m\u001b[0;34m\u001b[0m\u001b[0m\n\u001b[1;32m    856\u001b[0m           \u001b[0;31m# TODO(kaftan): do we maybe_build here, or have we already done it?\u001b[0m\u001b[0;34m\u001b[0m\u001b[0;34m\u001b[0m\u001b[0;34m\u001b[0m\u001b[0m\n\u001b[0;32m--> 857\u001b[0;31m           \u001b[0mself\u001b[0m\u001b[0;34m.\u001b[0m\u001b[0m_maybe_build\u001b[0m\u001b[0;34m(\u001b[0m\u001b[0minputs\u001b[0m\u001b[0;34m)\u001b[0m\u001b[0;34m\u001b[0m\u001b[0;34m\u001b[0m\u001b[0m\n\u001b[0m\u001b[1;32m    858\u001b[0m           \u001b[0moutputs\u001b[0m \u001b[0;34m=\u001b[0m \u001b[0mcall_fn\u001b[0m\u001b[0;34m(\u001b[0m\u001b[0minputs\u001b[0m\u001b[0;34m,\u001b[0m \u001b[0;34m*\u001b[0m\u001b[0margs\u001b[0m\u001b[0;34m,\u001b[0m \u001b[0;34m**\u001b[0m\u001b[0mkwargs\u001b[0m\u001b[0;34m)\u001b[0m\u001b[0;34m\u001b[0m\u001b[0;34m\u001b[0m\u001b[0m\n\u001b[1;32m    859\u001b[0m \u001b[0;34m\u001b[0m\u001b[0m\n",
      "\u001b[0;32m/opt/homebrew/Caskroom/miniforge/base/envs/tf24/lib/python3.8/site-packages/tensorflow/python/keras/engine/base_layer.py\u001b[0m in \u001b[0;36m_maybe_build\u001b[0;34m(self, inputs)\u001b[0m\n\u001b[1;32m   2672\u001b[0m     \u001b[0;31m# Check input assumptions set before layer building, e.g. input rank.\u001b[0m\u001b[0;34m\u001b[0m\u001b[0;34m\u001b[0m\u001b[0;34m\u001b[0m\u001b[0m\n\u001b[1;32m   2673\u001b[0m     \u001b[0;32mif\u001b[0m \u001b[0;32mnot\u001b[0m \u001b[0mself\u001b[0m\u001b[0;34m.\u001b[0m\u001b[0mbuilt\u001b[0m\u001b[0;34m:\u001b[0m\u001b[0;34m\u001b[0m\u001b[0;34m\u001b[0m\u001b[0m\n\u001b[0;32m-> 2674\u001b[0;31m       input_spec.assert_input_compatibility(\n\u001b[0m\u001b[1;32m   2675\u001b[0m           self.input_spec, inputs, self.name)\n\u001b[1;32m   2676\u001b[0m       \u001b[0minput_list\u001b[0m \u001b[0;34m=\u001b[0m \u001b[0mnest\u001b[0m\u001b[0;34m.\u001b[0m\u001b[0mflatten\u001b[0m\u001b[0;34m(\u001b[0m\u001b[0minputs\u001b[0m\u001b[0;34m)\u001b[0m\u001b[0;34m\u001b[0m\u001b[0;34m\u001b[0m\u001b[0m\n",
      "\u001b[0;32m/opt/homebrew/Caskroom/miniforge/base/envs/tf24/lib/python3.8/site-packages/tensorflow/python/keras/engine/input_spec.py\u001b[0m in \u001b[0;36massert_input_compatibility\u001b[0;34m(input_spec, inputs, layer_name)\u001b[0m\n\u001b[1;32m    217\u001b[0m       \u001b[0mndim\u001b[0m \u001b[0;34m=\u001b[0m \u001b[0mshape\u001b[0m\u001b[0;34m.\u001b[0m\u001b[0mrank\u001b[0m\u001b[0;34m\u001b[0m\u001b[0;34m\u001b[0m\u001b[0m\n\u001b[1;32m    218\u001b[0m       \u001b[0;32mif\u001b[0m \u001b[0mndim\u001b[0m \u001b[0;34m!=\u001b[0m \u001b[0mspec\u001b[0m\u001b[0;34m.\u001b[0m\u001b[0mndim\u001b[0m\u001b[0;34m:\u001b[0m\u001b[0;34m\u001b[0m\u001b[0;34m\u001b[0m\u001b[0m\n\u001b[0;32m--> 219\u001b[0;31m         raise ValueError('Input ' + str(input_index) + ' of layer ' +\n\u001b[0m\u001b[1;32m    220\u001b[0m                          \u001b[0mlayer_name\u001b[0m \u001b[0;34m+\u001b[0m \u001b[0;34m' is incompatible with the layer: '\u001b[0m\u001b[0;34m\u001b[0m\u001b[0;34m\u001b[0m\u001b[0m\n\u001b[1;32m    221\u001b[0m                          \u001b[0;34m'expected ndim='\u001b[0m \u001b[0;34m+\u001b[0m \u001b[0mstr\u001b[0m\u001b[0;34m(\u001b[0m\u001b[0mspec\u001b[0m\u001b[0;34m.\u001b[0m\u001b[0mndim\u001b[0m\u001b[0;34m)\u001b[0m \u001b[0;34m+\u001b[0m \u001b[0;34m', found ndim='\u001b[0m \u001b[0;34m+\u001b[0m\u001b[0;34m\u001b[0m\u001b[0;34m\u001b[0m\u001b[0m\n",
      "\u001b[0;31mValueError\u001b[0m: Input 0 of layer lstm_1 is incompatible with the layer: expected ndim=3, found ndim=2. Full shape received: (None, 200)"
     ]
    }
   ],
   "source": [
    "model.add(tf.keras.layers.Embedding(5000, 200, input_length=5))\n",
    "model.add(tf.keras.layers.LSTM(200))\n",
    "model.add(tf.keras.layers.LSTM(200))\n",
    "model.add(tf.keras.layers.TimeDistributed(tf.keras.layers.Dense(config.num_items, \n",
    "                                                               activation='softmax')))\n",
    "model.summary()"
   ]
  },
  {
   "cell_type": "code",
   "execution_count": null,
   "id": "9ea577a6",
   "metadata": {},
   "outputs": [],
   "source": [
    "model.compile(loss='categorical_crossentropy', optimizer=tf.kers.optimizers2)"
   ]
  }
 ],
 "metadata": {
  "kernelspec": {
   "display_name": "tf24",
   "language": "python",
   "name": "tf24"
  },
  "language_info": {
   "codemirror_mode": {
    "name": "ipython",
    "version": 3
   },
   "file_extension": ".py",
   "mimetype": "text/x-python",
   "name": "python",
   "nbconvert_exporter": "python",
   "pygments_lexer": "ipython3",
   "version": "3.8.6"
  }
 },
 "nbformat": 4,
 "nbformat_minor": 5
}
