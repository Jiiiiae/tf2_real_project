{
 "cells": [
  {
   "cell_type": "code",
   "execution_count": 1,
   "id": "65c1762e",
   "metadata": {},
   "outputs": [],
   "source": [
    "import numpy as np\n",
    "from matplotlib import pylab as plt\n",
    "from tools import matrix_to_array"
   ]
  },
  {
   "cell_type": "code",
   "execution_count": 2,
   "id": "e70096e0",
   "metadata": {},
   "outputs": [],
   "source": [
    "def evaluate_ts(features,y_true,y_pred):\n",
    "    print(\"Evaluation of the predictions:\")\n",
    "    print(\"MSE:\",np.mean(np.square(y_true-y_pred))) #MSE:평균 제곱 오차\n",
    "    print(\"mae:\",np.mean(np.abs(y_true-y_pred))) #mae: 평균 절대 오차\n",
    "    \n",
    "    print(\"Benchmark: if prediction == last feature\")\n",
    "    print(\"MSE:\",np.mean(np.square(features[:,-1]-y_true)))\n",
    "    print(\"mae:\",np.mean(np.abs(features[:,-1]-y_true)))\n",
    "    \n",
    "    plt.plot(matrix_to_array(y_true),'b')\n",
    "    plt.plot(matrix_to_array(y_pred),'r--')\n",
    "    plt.xlabel(\"Days\")\n",
    "    plt.ylabel(\"Predicted and true values\")\n",
    "    plt.title(\"Predicted (Red) VS Real (Blue)\")\n",
    "    plt.show()\n",
    "    \n",
    "    error = np.abs(matrix_to_array(y_pred) - matrix_to_array(y_true))\n",
    "    plt.plot(error,'r')\n",
    "    fit = np.polyfit(range(len(error)),error,deg=1) #데이터의 선형 직선을 찾아줌,, deg는 차수 (현재는 1차식의 계수)\n",
    "    plt.plot(fit[0] * range(len(error)+fit[1],'--'))\n",
    "    plt.xlabel(\"Days\")\n",
    "    plt.ylabel(\"Prediction error L1 norm\")\n",
    "    plt.title(\"Prediction error (absolute) and trendline\")\n",
    "    plt.show()\n",
    "    "
   ]
  }
 ],
 "metadata": {
  "kernelspec": {
   "display_name": "tf24",
   "language": "python",
   "name": "tf24"
  },
  "language_info": {
   "codemirror_mode": {
    "name": "ipython",
    "version": 3
   },
   "file_extension": ".py",
   "mimetype": "text/x-python",
   "name": "python",
   "nbconvert_exporter": "python",
   "pygments_lexer": "ipython3",
   "version": "3.8.6"
  }
 },
 "nbformat": 4,
 "nbformat_minor": 5
}
