{
 "cells": [
  {
   "cell_type": "code",
   "execution_count": 1,
   "id": "d50682f6",
   "metadata": {},
   "outputs": [],
   "source": [
    "import tensorflow as tf\n",
    "\n",
    "from tensorflow.python.compiler.mlcompute import mlcompute\n",
    "mlcompute.set_mlc_device(device_name='any') # Available options are 'cpu', 'gpu', and ‘any'.\n",
    "\n",
    "import matplotlib.pyplot as plt\n",
    "import matplotlib.ticker as ticker\n",
    "from sklearn.model_selection import train_test_split\n",
    "\n",
    "import unicodedata\n",
    "import re\n",
    "import numpy as np\n",
    "import os\n",
    "import io\n",
    "import time\n",
    "import math\n",
    "import sys\n",
    "import pickle\n",
    "import glob\n",
    "import data_utils\n",
    "import nltk\n",
    "from nltk.tokenize import word_tokenize\n",
    "from corpora_tools import *\n"
   ]
  },
  {
   "cell_type": "code",
   "execution_count": 2,
   "id": "cc8516f8",
   "metadata": {},
   "outputs": [],
   "source": [
    "path_l1_dict = \"/tmp/l1_dict.p\"\n",
    "path_l2_dict = \"/tmp/l2_dict.p\"\n",
    "model_dir = \"/tmp/translate\"\n",
    "model_checkpoints = model_dir + \"/translate.ckpt\""
   ]
  },
  {
   "cell_type": "code",
   "execution_count": 3,
   "id": "771cb652",
   "metadata": {},
   "outputs": [],
   "source": [
    "def build_dataset(use_stored_dictionary=False):\n",
    "    sen_l1, sen_l2 = retrieve_corpora()\n",
    "    clean_sen_l1 = [clean_sentences(s) for s in sen_l1]\n",
    "    clean_sen_l2 = [clean_sentences(s) for s in sen_l2]\n",
    "    filt_clean_sen_l1, filt_clean_sen_l2 = filter_sentence_length(clean_sen_l1, clean_sen_l2)\n",
    "    \n",
    "    if not use_stored_dictionary:\n",
    "        dict_l1 = create_indexed_dictionary(filt_clean_sen_l1,\n",
    "                                           dict_size=15000,\n",
    "                                           storage_path=path_l1_dict)\n",
    "        dict_l2 = create_indexed_dictionary(filt_clean_sen_l2,\n",
    "                                           dict_size=10000,\n",
    "                                           storage_path=path_l2_dict)\n",
    "    else:\n",
    "        dict_l1 = pickle.load(open(path_l1_dict, \"rb\"))\n",
    "        dict_l2 = pickle.load(open(path_l2_dict, \"rb\"))\n",
    "        \n",
    "    dict_l1_length = len(dict_l1)\n",
    "    dict_l2_length = len(dict_l2)\n",
    "    \n",
    "    idx_sentences_l1 = sentences_to_indexs(filt_clean_sen_l1, dict_l1)\n",
    "    idx_sentences_l2 = sentences_to_indexs(filt_clean_sen_l2, dict_l2)\n",
    "    \n",
    "    max_length_l1 = extract_max_length(idx_sentences_l1)\n",
    "    max_length_l2 = extract_max_length(idx_sentences_l2)\n",
    "    data_set = prepare_sentences(idx_sentences_l1, idx_sentences_l2,\n",
    "                                 max_length_l1, max_length_l2)\n",
    "    \n",
    "    return (filt_clean_sen_l1, filt_clean_sen_l2), \\\n",
    "            data_set, \\\n",
    "            (max_length_l1, max_length_l2), \\\n",
    "            (dict_l1_length, dict_l2_length)"
   ]
  },
  {
   "cell_type": "code",
   "execution_count": 4,
   "id": "35ffcbcd",
   "metadata": {},
   "outputs": [
    {
     "name": "stdout",
     "output_type": "stream",
     "text": [
      "Retrieving corpora: alignment-de-en.txt\n",
      "[sentences_to_indexs] Did not find 0 words\n",
      "[sentences_to_indexs] Did not find 0 words\n"
     ]
    }
   ],
   "source": [
    "filt_data_set, data_set, max_sentence_lengths, dict_lengths = build_dataset(False)"
   ]
  },
  {
   "cell_type": "code",
   "execution_count": 5,
   "id": "ac577143",
   "metadata": {},
   "outputs": [],
   "source": [
    "de = np.empty((0,max_sentence_lengths[0]+2), dtype=np.int32)\n",
    "en = np.empty((0,max_sentence_lengths[0]+2), dtype=np.int32)\n",
    "for i in range(len(data_set)):\n",
    "    de = np.append(de, [data_set[i][0]], axis=0)\n",
    "    en = np.append(en, [data_set[i][1]], axis=0)\n",
    "    "
   ]
  },
  {
   "cell_type": "code",
   "execution_count": 6,
   "id": "be774a60",
   "metadata": {},
   "outputs": [
    {
     "name": "stdout",
     "output_type": "stream",
     "text": [
      "7214 7214 1804 1804\n"
     ]
    }
   ],
   "source": [
    "input_tensor_train, input_tensor_val, target_tensor_train, target_tensor_val = train_test_split(de, en, test_size=0.2)\n",
    "print(len(input_tensor_train), len(target_tensor_train), len(input_tensor_val), len(target_tensor_val))"
   ]
  },
  {
   "cell_type": "code",
   "execution_count": 7,
   "id": "8a0692d4",
   "metadata": {},
   "outputs": [],
   "source": [
    "BUFFER_SIZE = len(input_tensor_train)\n",
    "BATCH_SIZE = 32\n",
    "steps_per_epoch = len(input_tensor_train)//BATCH_SIZE\n",
    "embedding_dim = 256\n",
    "units = 1024\n",
    "vocab_inp_size = dict_lengths[0]\n",
    "vocab_tar_size = dict_lengths[1]\n",
    "\n",
    "dataset = tf.data.Dataset.from_tensor_slices((input_tensor_train,\n",
    "                                           target_tensor_train)).shuffle(BUFFER_SIZE)\n",
    "dataset = dataset.batch(BATCH_SIZE, drop_remainder=True)"
   ]
  },
  {
   "cell_type": "code",
   "execution_count": 8,
   "id": "339e9fdd",
   "metadata": {},
   "outputs": [
    {
     "data": {
      "text/plain": [
       "(TensorShape([32, 17]), TensorShape([32, 17]))"
      ]
     },
     "execution_count": 8,
     "metadata": {},
     "output_type": "execute_result"
    }
   ],
   "source": [
    "example_input_bath, example_target_batch = next(iter(dataset))\n",
    "example_input_bath.shape, example_target_batch.shape"
   ]
  },
  {
   "cell_type": "code",
   "execution_count": 9,
   "id": "b22dd9e8",
   "metadata": {},
   "outputs": [],
   "source": [
    "class Encoder(tf.keras.Model):\n",
    "    def __init__(self, vocab_size, embedding_dim, enc_units, batch_sz):\n",
    "        super(Encoder, self).__init__()\n",
    "        self.batch_sz = batch_sz\n",
    "        self.enc_units = enc_units\n",
    "        self.embedding = tf.keras.layers.Embedding(vocab_size, embedding_dim)\n",
    "        self.gru = tf.keras.layers.GRU(self.enc_units, return_sequences=True,\n",
    "                                      return_state=True, recurrent_initializer=\n",
    "                                      'glorot_uniform')\n",
    "    def call(self, x, hidden):\n",
    "        x = self.embedding(x)\n",
    "        output, state = self.gru(x, initial_state = hidden)\n",
    "        return output, state\n",
    "    \n",
    "    def initialize_hidden_state(self):\n",
    "        return tf.zeros((self.batch_sz, self.enc_units))\n",
    "    "
   ]
  },
  {
   "cell_type": "code",
   "execution_count": 10,
   "id": "40e0f16f",
   "metadata": {},
   "outputs": [
    {
     "name": "stdout",
     "output_type": "stream",
     "text": [
      "Encoder output shape: (batch_size, sequence_length, units) (32, 17, 1024)\n",
      "Encoder Hidden state shape: (batch_size, units) (32, 1024)\n"
     ]
    }
   ],
   "source": [
    "encoder = Encoder(vocab_inp_size, embedding_dim, units, BATCH_SIZE)\n",
    "\n",
    "sample_hidden = encoder.initialize_hidden_state()\n",
    "sample_output, sample_hidden = encoder(example_input_bath, sample_hidden)\n",
    "print(\"Encoder output shape: (batch_size, sequence_length, units) {}\".\n",
    "     format(sample_output.shape))\n",
    "print(\"Encoder Hidden state shape: (batch_size, units) {}\".\n",
    "     format(sample_hidden.shape))"
   ]
  },
  {
   "cell_type": "code",
   "execution_count": 11,
   "id": "39232188",
   "metadata": {},
   "outputs": [],
   "source": [
    "class BahdanauAttention(tf.keras.layers.Layer):\n",
    "    def __init__(self, units):\n",
    "        super(BahdanauAttention, self).__init__()\n",
    "        self.W1 = tf.keras.layers.Dense(units)\n",
    "        self.W2 = tf.keras.layers.Dense(units)\n",
    "        self.V = tf.keras.layers.Dense(1)\n",
    "        \n",
    "    def call(self, query, values):\n",
    "        query_with_time_axis = tf.expand_dims(query,1)\n",
    "        \n",
    "        score = self.V(tf.nn.tanh(\n",
    "        self.W1(query_with_time_axis) + self.W2(values)))\n",
    "        \n",
    "        attention_weights = tf.nn.softmax(score, axis=1)\n",
    "        \n",
    "        context_vector = attention_weights * values\n",
    "        context_vector = tf.reduce_sum(context_vector, axis=1)\n",
    "        \n",
    "        return context_vector, attention_weights"
   ]
  },
  {
   "cell_type": "code",
   "execution_count": 12,
   "id": "ae1abe21",
   "metadata": {},
   "outputs": [
    {
     "name": "stdout",
     "output_type": "stream",
     "text": [
      "Attention result shape: (batch size, units) (32, 1024)\n",
      "Attention weights shape: (batch_size, sequence_length,1)(32, 17, 1)\n"
     ]
    }
   ],
   "source": [
    "attention_layer = BahdanauAttention(10)\n",
    "attention_result, attention_weights = attention_layer(sample_hidden, sample_output)\n",
    "\n",
    "print(\"Attention result shape: (batch size, units) {}\".format(\n",
    "attention_result.shape))\n",
    "print(\"Attention weights shape: (batch_size, sequence_length,1){}\".\n",
    "     format(attention_weights.shape))"
   ]
  },
  {
   "cell_type": "code",
   "execution_count": 13,
   "id": "727ddbb8",
   "metadata": {},
   "outputs": [],
   "source": [
    "class Decoder(tf.keras.Model):\n",
    "    def __init__(self, vocab_size, embedding_dim, dec_units, batch_sz):\n",
    "        super(Decoder, self).__init__()\n",
    "        self.batch_sz = batch_sz\n",
    "        self.embedding = tf.keras.layers.Embedding(vocab_size, embedding_dim)\n",
    "        self.dec_units = dec_units\n",
    "        self.gru = tf.keras.layers.GRU(self.dec_units,\n",
    "                                      return_sequences=True,\n",
    "                                      return_state=True,\n",
    "                                      recurrent_initializer='glorot_uniform')\n",
    "        self.fc = tf.keras.layers.Dense(vocab_size)\n",
    "        \n",
    "        self.attention = BahdanauAttention(self.dec_units)\n",
    "        \n",
    "    def call(self, x, hidden, enc_outputs):\n",
    "        context_vector, attention_weights = self.attention(hidden, enc_outputs)\n",
    "        \n",
    "        x = self.embedding(x)\n",
    "        \n",
    "        x = tf.concat([tf.expand_dims(context_vector,1),x], axis=-1)\n",
    "        \n",
    "        output, state = self.gru(x)\n",
    "        \n",
    "        output = tf.reshape(output, (-1, output.shape[2]))\n",
    "        \n",
    "        x = self.fc(output)\n",
    "        \n",
    "        return x, state, attention_weights"
   ]
  },
  {
   "cell_type": "code",
   "execution_count": 14,
   "id": "cf704f7a",
   "metadata": {},
   "outputs": [
    {
     "name": "stdout",
     "output_type": "stream",
     "text": [
      "Decoder output shape: (batch_size, vocab_size) (32, 6915)\n"
     ]
    }
   ],
   "source": [
    "decoder = Decoder(vocab_tar_size, embedding_dim, units, BATCH_SIZE)\n",
    "sample_decoder_ouput, _, _ = decoder(tf.random.uniform((BATCH_SIZE,1)),\n",
    "sample_hidden, sample_output)\n",
    "print(\"Decoder output shape: (batch_size, vocab_size) {}\".format\n",
    "     (sample_decoder_ouput.shape))"
   ]
  },
  {
   "cell_type": "code",
   "execution_count": 15,
   "id": "6ee19be1",
   "metadata": {},
   "outputs": [],
   "source": [
    "optimizer = tf.keras.optimizers.Adam()\n",
    "loss_object = tf.keras.losses.SparseCategoricalCrossentropy(\n",
    "from_logits=True, reduction='none')\n",
    "\n",
    "def loss_function(real,pred):\n",
    "    mask = tf.math.logical_not(tf.math.equal(real,0))\n",
    "    loss_ = loss_object(real, pred)\n",
    "    \n",
    "    mask = tf.cast(mask, dtype=loss_.dtype)\n",
    "    loss_ *= mask\n",
    "    \n",
    "    return tf.reduce_mean(loss_)"
   ]
  },
  {
   "cell_type": "code",
   "execution_count": 16,
   "id": "45e45ed8",
   "metadata": {},
   "outputs": [],
   "source": [
    "checkpoint = tf.train.Checkpoint(optimizer=optimizer,\n",
    "                                encoder=encoder,\n",
    "                                decoder=decoder)"
   ]
  },
  {
   "cell_type": "code",
   "execution_count": 17,
   "id": "7ae71d77",
   "metadata": {},
   "outputs": [],
   "source": [
    "@tf.function\n",
    "def train_step(inp, targ, enc_hidden):\n",
    "    loss = 0\n",
    "    \n",
    "    with tf.GradientTape() as tape:\n",
    "        enc_output, enc_hidden = encoder(inp, enc_hidden)\n",
    "        \n",
    "        dec_hidden = enc_hidden\n",
    "        \n",
    "        dec_input = tf.expand_dims([data_utils.GO_ID]*BATCH_SIZE, 1)\n",
    "        \n",
    "        for t in range(1, targ.shape[1]):\n",
    "            predictions, dec_hidden, _ = decoder(dec_input, dec_hidden, enc_output)\n",
    "            \n",
    "            loss += loss_function(targ[:,t], predictions)\n",
    "            \n",
    "            dec_input = tf.expand_dims(targ[:,t],1)\n",
    "            \n",
    "    batch_loss = (loss / int(targ.shape[1]))\n",
    "    \n",
    "    variables = encoder.trainable_variables + decoder.trainable_variables\n",
    "\n",
    "    gradients = tape.gradient(loss, variables)\n",
    "        \n",
    "    optimizer.apply_gradients(zip(gradients, variables))\n",
    "    \n",
    "    return batch_loss"
   ]
  },
  {
   "cell_type": "code",
   "execution_count": 18,
   "id": "fcec7d94",
   "metadata": {},
   "outputs": [
    {
     "name": "stderr",
     "output_type": "stream",
     "text": [
      "2021-11-05 16:58:43.922821: I tensorflow/compiler/mlir/mlir_graph_optimization_pass.cc:116] None of the MLIR optimization passes are enabled (registered 2)\n",
      "2021-11-05 16:58:43.961383: W tensorflow/core/platform/profile_utils/cpu_utils.cc:126] Failed to get CPU frequency: 0 Hz\n"
     ]
    },
    {
     "name": "stdout",
     "output_type": "stream",
     "text": [
      "Epoch 1 Batch 0 Loss 5.8676\n",
      "Epoch 1 Batch 100 Loss 3.5140\n",
      "Epoch 1 Batch 200 Loss 3.5284\n",
      "Epoch 1 Loss 3.8045\n",
      "Time taken for 1 epoch 280.49231004714966 sec\n",
      "\n",
      "Epoch 2 Batch 0 Loss 3.1621\n",
      "Epoch 2 Batch 100 Loss 3.1501\n",
      "Epoch 2 Batch 200 Loss 3.1040\n",
      "Epoch 2 Loss 3.2527\n",
      "Time taken for 1 epoch 268.6725769042969 sec\n",
      "\n",
      "Epoch 3 Batch 0 Loss 3.3768\n",
      "Epoch 3 Batch 100 Loss 2.8882\n",
      "Epoch 3 Batch 200 Loss 2.6030\n",
      "Epoch 3 Loss 2.9110\n",
      "Time taken for 1 epoch 260.4926657676697 sec\n",
      "\n",
      "Epoch 4 Batch 0 Loss 2.4686\n",
      "Epoch 4 Batch 100 Loss 2.4002\n",
      "Epoch 4 Batch 200 Loss 2.1043\n",
      "Epoch 4 Loss 2.6506\n",
      "Time taken for 1 epoch 257.36853098869324 sec\n",
      "\n",
      "Epoch 5 Batch 0 Loss 2.1770\n",
      "Epoch 5 Batch 100 Loss 2.5412\n",
      "Epoch 5 Batch 200 Loss 2.3719\n",
      "Epoch 5 Loss 2.4356\n",
      "Time taken for 1 epoch 256.8641531467438 sec\n",
      "\n",
      "Epoch 6 Batch 0 Loss 2.1355\n",
      "Epoch 6 Batch 100 Loss 2.3700\n",
      "Epoch 6 Batch 200 Loss 2.1098\n",
      "Epoch 6 Loss 2.2141\n",
      "Time taken for 1 epoch 256.66893696784973 sec\n",
      "\n",
      "Epoch 7 Batch 0 Loss 1.9949\n",
      "Epoch 7 Batch 100 Loss 2.0867\n",
      "Epoch 7 Batch 200 Loss 2.3363\n",
      "Epoch 7 Loss 2.0001\n",
      "Time taken for 1 epoch 255.31477093696594 sec\n",
      "\n",
      "Epoch 8 Batch 0 Loss 1.6133\n",
      "Epoch 8 Batch 100 Loss 1.7584\n",
      "Epoch 8 Batch 200 Loss 1.8449\n",
      "Epoch 8 Loss 1.7773\n",
      "Time taken for 1 epoch 255.93662428855896 sec\n",
      "\n",
      "Epoch 9 Batch 0 Loss 1.6011\n",
      "Epoch 9 Batch 100 Loss 1.5592\n",
      "Epoch 9 Batch 200 Loss 1.7283\n",
      "Epoch 9 Loss 1.5388\n",
      "Time taken for 1 epoch 255.1249599456787 sec\n",
      "\n",
      "Epoch 10 Batch 0 Loss 1.1650\n",
      "Epoch 10 Batch 100 Loss 1.1843\n",
      "Epoch 10 Batch 200 Loss 1.4328\n",
      "Epoch 10 Loss 1.3024\n",
      "Time taken for 1 epoch 255.90772104263306 sec\n",
      "\n"
     ]
    }
   ],
   "source": [
    "# EPOCHS = 10\n",
    "\n",
    "# for epoch in range(EPOCHS):\n",
    "#     start = time.time()\n",
    "    \n",
    "#     enc_hidden = encoder.initialize_hidden_state()\n",
    "#     total_loss = 0\n",
    "    \n",
    "#     for (batch, (inp,targ)) in enumerate(dataset.take(steps_per_epoch)):\n",
    "#         batch_loss = train_step(inp, targ, enc_hidden)\n",
    "#         total_loss += batch_loss\n",
    "        \n",
    "#         if batch %100 == 0:\n",
    "#             print(\"Epoch {} Batch {} Loss {:.4f}\".format(epoch+1,\n",
    "#                                                         batch,\n",
    "#                                                         batch_loss.numpy()))\n",
    "            \n",
    "#     if (epoch + 1) % 2 == 0:\n",
    "#         checkpoint.save(file_prefix = model_checkpoints)\n",
    "            \n",
    "#     print(\"Epoch {} Loss {:.4f}\".format(epoch + 1, \n",
    "#                                            total_loss / steps_per_epoch))\n",
    "#     print(\"Time taken for 1 epoch {} sec\\n\".format(time.time() - start))\n"
   ]
  },
  {
   "cell_type": "code",
   "execution_count": 34,
   "id": "62077d63",
   "metadata": {},
   "outputs": [],
   "source": [
    "dict_l1 = pickle.load(open(path_l1_dict, \"rb\"))\n",
    "dict_l2 = pickle.load(open(path_l2_dict, \"rb\"))\n",
    "max_length = max_sentence_lengths[0]\n",
    "inv_dict_l1 = {v: k for k, v in dict_l1.items()}\n",
    "inv_dict_l2 = {v: k for k, v in dict_l2.items()}"
   ]
  },
  {
   "cell_type": "code",
   "execution_count": 28,
   "id": "034eb8ff",
   "metadata": {},
   "outputs": [],
   "source": [
    "import nltk\n",
    "from nltk.tokenize import word_tokenize"
   ]
  },
  {
   "cell_type": "code",
   "execution_count": 102,
   "id": "3a6a3ff8",
   "metadata": {},
   "outputs": [],
   "source": [
    "def evaluate(sentence):\n",
    "    attention_plot = np.zeros((max_length+2,max_length+2))\n",
    "    \n",
    "    original = data_utils._GO +  ' ' + sentence + ' ' + data_utils._EOS\n",
    "    sentence = word_tokenize(sentence)\n",
    "    sentence = clean_sentences(sentence)\n",
    "    \n",
    "    sen2idx = sentence_to_indexs(sentence, dict_l1)\n",
    "\n",
    "    padding = max_length - len(sen2idx)\n",
    "    inputs = [data_utils.GO_ID] + sen2idx + [data_utils.EOS_ID] + ([data_utils.PAD_ID] * padding)\n",
    "\n",
    "    \n",
    "    inputs = np.reshape(inputs, (1,max_length+2))\n",
    "    inputs = tf.convert_to_tensor(inputs)\n",
    "    \n",
    "    result= ''\n",
    "    \n",
    "    hidden = [tf.zeros((1,units))]\n",
    "    enc_out, enc_hidden = encoder(inputs, hidden)\n",
    "    \n",
    "    dec_hidden = enc_hidden\n",
    "    dec_input = tf.expand_dims([data_utils.GO_ID], 0)\n",
    "    \n",
    "    for t in range(max_length+2):\n",
    "        predictions, dec_hidden, attention_weights = decoder(dec_input,\n",
    "                                                            dec_hidden,\n",
    "                                                            enc_out)\n",
    "        \n",
    "        attention_weights = tf.reshape(attention_weights, (-1, ))\n",
    "        attention_plot[t] = attention_weights.numpy()\n",
    "        \n",
    "        predicted_id = tf.argmax(predictions[0]).numpy()\n",
    "        \n",
    "        result += inv_dict_l2[predicted_id] + ' '\n",
    "        \n",
    "        if predicted_id == data_utils.EOS_ID:\n",
    "            return result, original, attention_plot\n",
    "        \n",
    "        dec_input = tf.expand_dims([predicted_id],0)\n",
    "        \n",
    "    return result, original, attention_plot"
   ]
  },
  {
   "cell_type": "code",
   "execution_count": 108,
   "id": "0c088a2a",
   "metadata": {},
   "outputs": [],
   "source": [
    "def plot_attention(attention, sentence, predicted_sentence):\n",
    "    fig = plt.figure(figsize=(10,10))\n",
    "    ax = fig.add_subplot(1,1,1)\n",
    "    ax.matshow(attention, cmap='viridis')\n",
    "    \n",
    "    fontdict = {'fontsize' : 14}\n",
    "    \n",
    "    ax.set_xticklabels([''] + sentence, fontdict=fontdict, rotation=90)\n",
    "    ax.set_yticklabels([''] + predicted_sentence, fontdict=fontdict)\n",
    "    \n",
    "    ax.xaxis.set_major_locator(ticker.MultipleLocator(1))\n",
    "    ax.yaxis.set_major_locator(ticker.MultipleLocator(1))\n",
    "    \n",
    "    plt.show()"
   ]
  },
  {
   "cell_type": "code",
   "execution_count": 91,
   "id": "5939c06c",
   "metadata": {},
   "outputs": [],
   "source": [
    "def translate(sentence):\n",
    "    result, original, attention_plot = evaluate(sentence)\n",
    "    \n",
    "    print('Input: %s' % (original))\n",
    "    print('Predicted translation: {}'.format(result))\n",
    "    \n",
    "    attention_plot = attention_plot[:len(result.split(' ')), :len(original.split(' '))]\n",
    "    plot_attention(attention_plot, original.split(' '), result.split(' '))"
   ]
  },
  {
   "cell_type": "code",
   "execution_count": 32,
   "id": "e72acefc",
   "metadata": {},
   "outputs": [
    {
     "data": {
      "text/plain": [
       "<tensorflow.python.training.tracking.util.CheckpointLoadStatus at 0x14c673d30>"
      ]
     },
     "execution_count": 32,
     "metadata": {},
     "output_type": "execute_result"
    }
   ],
   "source": [
    "checkpoint.restore(tf.train.latest_checkpoint(model_dir))"
   ]
  },
  {
   "cell_type": "code",
   "execution_count": 109,
   "id": "4ae52572",
   "metadata": {},
   "outputs": [
    {
     "name": "stdout",
     "output_type": "stream",
     "text": [
      "[sentences_to_indexs] Did not find 0 words\n",
      "Input: _GO Wiederaufnahme der Sitzungsperiode _EOS\n",
      "Predicted translation: resumption of the session _EOS \n"
     ]
    },
    {
     "name": "stderr",
     "output_type": "stream",
     "text": [
      "/var/folders/d9/j4fzl6g10m97nw0c5yzh_bh40000gn/T/ipykernel_52532/1767172514.py:8: UserWarning: FixedFormatter should only be used together with FixedLocator\n",
      "  ax.set_xticklabels([''] + sentence, fontdict=fontdict, rotation=90)\n",
      "/var/folders/d9/j4fzl6g10m97nw0c5yzh_bh40000gn/T/ipykernel_52532/1767172514.py:9: UserWarning: FixedFormatter should only be used together with FixedLocator\n",
      "  ax.set_yticklabels([''] + predicted_sentence, fontdict=fontdict)\n"
     ]
    },
    {
     "data": {
      "image/png": "[encoded data removed]",
      "text/plain": [
       "<Figure size 720x720 with 1 Axes>"
      ]
     },
     "metadata": {
      "needs_background": "light"
     },
     "output_type": "display_data"
    }
   ],
   "source": [
    "translate('Wiederaufnahme der Sitzungsperiode')"
   ]
  },
  {
   "cell_type": "code",
   "execution_count": 110,
   "id": "bb3f6d4d",
   "metadata": {},
   "outputs": [
    {
     "name": "stdout",
     "output_type": "stream",
     "text": [
      "[sentences_to_indexs] Did not find 0 words\n",
      "Input: _GO die ablehnung einer verlängerung des embargos seitens der eu-mitgliedstaaten ist unverantwortlich. _EOS\n",
      "Predicted translation: we need to renew the embargo to renew the embargo to renew the embargo to renew the \n"
     ]
    },
    {
     "name": "stderr",
     "output_type": "stream",
     "text": [
      "/var/folders/d9/j4fzl6g10m97nw0c5yzh_bh40000gn/T/ipykernel_52532/1767172514.py:8: UserWarning: FixedFormatter should only be used together with FixedLocator\n",
      "  ax.set_xticklabels([''] + sentence, fontdict=fontdict, rotation=90)\n",
      "/var/folders/d9/j4fzl6g10m97nw0c5yzh_bh40000gn/T/ipykernel_52532/1767172514.py:9: UserWarning: FixedFormatter should only be used together with FixedLocator\n",
      "  ax.set_yticklabels([''] + predicted_sentence, fontdict=fontdict)\n"
     ]
    },
    {
     "data": {
      "image/png": "[encoded data removed]",
      "text/plain": [
       "<Figure size 720x720 with 1 Axes>"
      ]
     },
     "metadata": {
      "needs_background": "light"
     },
     "output_type": "display_data"
    }
   ],
   "source": [
    "translate('die ablehnung einer verlängerung des embargos seitens der eu-mitgliedstaaten ist unverantwortlich.')"
   ]
  },
  {
   "cell_type": "code",
   "execution_count": 111,
   "id": "c285b734",
   "metadata": {},
   "outputs": [
    {
     "name": "stdout",
     "output_type": "stream",
     "text": [
      "[sentences_to_indexs] Did not find 0 words\n",
      "Input: _GO Frau Präsidentin, zur Geschäftsordnung. _EOS\n",
      "Predicted translation: madam president , on a point of order . _EOS \n"
     ]
    },
    {
     "name": "stderr",
     "output_type": "stream",
     "text": [
      "/var/folders/d9/j4fzl6g10m97nw0c5yzh_bh40000gn/T/ipykernel_52532/1767172514.py:8: UserWarning: FixedFormatter should only be used together with FixedLocator\n",
      "  ax.set_xticklabels([''] + sentence, fontdict=fontdict, rotation=90)\n",
      "/var/folders/d9/j4fzl6g10m97nw0c5yzh_bh40000gn/T/ipykernel_52532/1767172514.py:9: UserWarning: FixedFormatter should only be used together with FixedLocator\n",
      "  ax.set_yticklabels([''] + predicted_sentence, fontdict=fontdict)\n"
     ]
    },
    {
     "data": {
      "image/png": "[encoded data removed]",
      "text/plain": [
       "<Figure size 720x720 with 1 Axes>"
      ]
     },
     "metadata": {
      "needs_background": "light"
     },
     "output_type": "display_data"
    }
   ],
   "source": [
    "translate('Frau Präsidentin, zur Geschäftsordnung.')"
   ]
  }
 ],
 "metadata": {
  "kernelspec": {
   "display_name": "tf24",
   "language": "python",
   "name": "tf24"
  },
  "language_info": {
   "codemirror_mode": {
    "name": "ipython",
    "version": 3
   },
   "file_extension": ".py",
   "mimetype": "text/x-python",
   "name": "python",
   "nbconvert_exporter": "python",
   "pygments_lexer": "ipython3",
   "version": "3.8.6"
  }
 },
 "nbformat": 4,
 "nbformat_minor": 5
}
