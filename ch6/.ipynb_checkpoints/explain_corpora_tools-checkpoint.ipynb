{
 "cells": [
  {
   "cell_type": "markdown",
   "id": "e03e3483",
   "metadata": {},
   "source": [
    "#### README\n",
    "corpora_tools에서 만든 함수가 어떻게 작용하는지 확인하기"
   ]
  },
  {
   "cell_type": "code",
   "execution_count": 1,
   "id": "50bca76a",
   "metadata": {},
   "outputs": [],
   "source": [
    "from corpora_tools import *"
   ]
  },
  {
   "cell_type": "code",
   "execution_count": 2,
   "id": "7b5cab35",
   "metadata": {},
   "outputs": [
    {
     "name": "stdout",
     "output_type": "stream",
     "text": [
      "Retrieving corpora: alignment-de-en.txt\n",
      "# A sentence in the two lan\n",
      "DE: ['Die', 'Ablehnung', 'einer', 'Verlängerung', 'des', 'Embargos', 'seitens', 'der', 'EU-Mitgliedstaaten', 'ist', 'unverantwortlich', '.']\n",
      "EN: ['It', 'is', 'irresponsible', 'of', 'EU', 'Member', 'States', 'to', 'refuse', 'to', 'renew', 'the', 'embargo', '.']\n"
     ]
    }
   ],
   "source": [
    "sen_l1,sen_l2 = retrieve_corpora()\n",
    "print(\"# A sentence in the two lan\")\n",
    "print(\"DE:\", sen_l1[50])\n",
    "print(\"EN:\", sen_l2[50])"
   ]
  },
  {
   "cell_type": "code",
   "execution_count": 3,
   "id": "bf644eff",
   "metadata": {},
   "outputs": [
    {
     "name": "stdout",
     "output_type": "stream",
     "text": [
      "# Corpora length (i.e. number of sentences)\n",
      "33334\n"
     ]
    }
   ],
   "source": [
    "print(\"# Corpora length (i.e. number of sentences)\")\n",
    "print(len(sen_l1))\n",
    "assert len(sen_l1) == len(sen_l2), \"길이가 다름\" #true가 아니면 asserterror"
   ]
  },
  {
   "cell_type": "code",
   "execution_count": 4,
   "id": "74e5c487",
   "metadata": {},
   "outputs": [
    {
     "name": "stdout",
     "output_type": "stream",
     "text": [
      "# Same sentence as before, but chunked and cleand\n",
      "DE: ['die', 'ablehnung', 'einer', 'verlängerung', 'des', 'embargos', 'seitens', 'der', 'eu-mitgliedstaaten', 'ist', 'unverantwortlich', '.']\n",
      "EN: ['it', 'is', 'irresponsible', 'of', 'eu', 'member', 'states', 'to', 'refuse', 'to', 'renew', 'the', 'embargo', '.']\n"
     ]
    }
   ],
   "source": [
    "clean_sen_l1 = [clean_sentences(s) for s in sen_l1]\n",
    "clean_sen_l2 = [clean_sentences(s) for s in sen_l2]\n",
    "\n",
    "print(\"# Same sentence as before, but chunked and cleand\")\n",
    "print(\"DE:\", clean_sen_l1[50])\n",
    "print(\"EN:\", clean_sen_l2[50])"
   ]
  },
  {
   "cell_type": "code",
   "execution_count": 5,
   "id": "04b0eb99",
   "metadata": {},
   "outputs": [
    {
     "name": "stdout",
     "output_type": "stream",
     "text": [
      "# Filtered Corpora length (i.e. number of sentences)\n",
      "25889\n"
     ]
    }
   ],
   "source": [
    "filt_clean_sen_l1, filt_clean_sen_l2 = filter_sentence_length(clean_sen_l1, clean_sen_l2, max_len=30)\n",
    "print(\"# Filtered Corpora length (i.e. number of sentences)\")\n",
    "print(len(filt_clean_sen_l1))\n",
    "assert len(filt_clean_sen_l1) == len(filt_clean_sen_l2), \"길이가 다름\""
   ]
  },
  {
   "cell_type": "code",
   "execution_count": 6,
   "id": "c32f8f82",
   "metadata": {},
   "outputs": [],
   "source": [
    "dict_l1 = create_indexed_dictionary(filt_clean_sen_l1, dict_size=25000, storage_path='/tmp/l1_dict.p')\n",
    "dict_l2 = create_indexed_dictionary(filt_clean_sen_l2, dict_size=15000, storage_path='/tmp/l2_dict.p')"
   ]
  },
  {
   "cell_type": "code",
   "execution_count": 7,
   "id": "642fde29",
   "metadata": {},
   "outputs": [
    {
     "name": "stdout",
     "output_type": "stream",
     "text": [
      "[sentences_to_indexs] Did not find 1843 words\n",
      "[sentences_to_indexs] Did not find 0 words\n"
     ]
    }
   ],
   "source": [
    "idx_sentences_l1 = sentences_to_indexs(filt_clean_sen_l1, dict_l1)\n",
    "idx_sentences_l2 = sentences_to_indexs(filt_clean_sen_l2, dict_l2)"
   ]
  },
  {
   "cell_type": "code",
   "execution_count": 8,
   "id": "80216e9b",
   "metadata": {},
   "outputs": [
    {
     "name": "stdout",
     "output_type": "stream",
     "text": [
      "# Same sentences as before, with their dictionary ID\n",
      "DE: [('wiederaufnahme', 2575), ('der', 7), ('sitzungsperiode', 1220)]\n",
      "EN: [('resumption', 2736), ('of', 8), ('the', 4), ('session', 896)]\n"
     ]
    }
   ],
   "source": [
    "print(\"# Same sentences as before, with their dictionary ID\")\n",
    "print(\"DE:\", list(zip(filt_clean_sen_l1[0], idx_sentences_l1[0])))\n",
    "print(\"EN:\", list(zip(filt_clean_sen_l2[0], idx_sentences_l2[0])))"
   ]
  },
  {
   "cell_type": "code",
   "execution_count": 9,
   "id": "8ec7e832",
   "metadata": {},
   "outputs": [],
   "source": [
    "max_length_l1 = extract_max_length(idx_sentences_l1)\n",
    "max_length_l2 = extract_max_length(idx_sentences_l2)"
   ]
  },
  {
   "cell_type": "code",
   "execution_count": 10,
   "id": "21129de3",
   "metadata": {},
   "outputs": [
    {
     "name": "stdout",
     "output_type": "stream",
     "text": [
      "# Max sentence sizes:\n",
      "DE: 30\n",
      "EN: 30\n"
     ]
    }
   ],
   "source": [
    "print(\"# Max sentence sizes:\")\n",
    "print(\"DE:\", max_length_l1)\n",
    "print(\"EN:\", max_length_l2)"
   ]
  },
  {
   "cell_type": "code",
   "execution_count": 11,
   "id": "5de9ee26",
   "metadata": {},
   "outputs": [],
   "source": [
    "data_set = prepare_sentences(idx_sentences_l1, idx_sentences_l2, max_length_l1, max_length_l2)"
   ]
  },
  {
   "cell_type": "code",
   "execution_count": 13,
   "id": "8653f5f2",
   "metadata": {},
   "outputs": [
    {
     "name": "stdout",
     "output_type": "stream",
     "text": [
      "# Prepared minibatch with paddings and extra stuff\n",
      "DE: [0, 0, 0, 0, 0, 0, 0, 0, 0, 0, 0, 0, 0, 0, 0, 0, 0, 0, 0, 0, 0, 0, 0, 0, 0, 0, 0, 2575, 7, 1220]\n",
      "EN: [1, 2736, 8, 4, 896, 2, 0, 0, 0, 0, 0, 0, 0, 0, 0, 0, 0, 0, 0, 0, 0, 0, 0, 0, 0, 0, 0, 0, 0, 0, 0, 0]\n"
     ]
    }
   ],
   "source": [
    "print(\"# Prepared minibatch with paddings and extra stuff\")\n",
    "print(\"DE:\", data_set[0][0])\n",
    "print(\"EN:\", data_set[0][1])"
   ]
  },
  {
   "cell_type": "code",
   "execution_count": 14,
   "id": "cc5491c5",
   "metadata": {},
   "outputs": [
    {
     "name": "stdout",
     "output_type": "stream",
     "text": [
      "# The sentence pass from X to Y tokens\n",
      "DE: 3 -> 30\n",
      "EN: 4 -> 32\n"
     ]
    }
   ],
   "source": [
    "print(\"# The sentence pass from X to Y tokens\")\n",
    "print(\"DE:\", len(idx_sentences_l1[0]), \"->\", len(data_set[0][0]))\n",
    "print(\"EN:\", len(idx_sentences_l2[0]), \"->\", len(data_set[0][1]))"
   ]
  },
  {
   "cell_type": "code",
   "execution_count": 14,
   "id": "3e2c8978",
   "metadata": {},
   "outputs": [
    {
     "name": "stderr",
     "output_type": "stream",
     "text": [
      "[nltk_data] Downloading package punkt to /Users/jiae/nltk_data...\n",
      "[nltk_data]   Unzipping tokenizers/punkt.zip.\n"
     ]
    },
    {
     "data": {
      "text/plain": [
       "True"
      ]
     },
     "execution_count": 14,
     "metadata": {},
     "output_type": "execute_result"
    }
   ],
   "source": [
    "import nltk\n",
    "from nltk.tokenize import word_tokenize\n",
    "nltk.download('punkt')"
   ]
  },
  {
   "cell_type": "code",
   "execution_count": 15,
   "id": "3bea1c6a",
   "metadata": {},
   "outputs": [
    {
     "data": {
      "text/plain": [
       "['Wiederaufnahme', 'der', 'Sitzungsperiode']"
      ]
     },
     "execution_count": 15,
     "metadata": {},
     "output_type": "execute_result"
    }
   ],
   "source": [
    "word_tokenize('Wiederaufnahme der Sitzungsperiode')"
   ]
  }
 ],
 "metadata": {
  "kernelspec": {
   "display_name": "tf24",
   "language": "python",
   "name": "tf24"
  },
  "language_info": {
   "codemirror_mode": {
    "name": "ipython",
    "version": 3
   },
   "file_extension": ".py",
   "mimetype": "text/x-python",
   "name": "python",
   "nbconvert_exporter": "python",
   "pygments_lexer": "ipython3",
   "version": "3.8.6"
  }
 },
 "nbformat": 4,
 "nbformat_minor": 5
}
