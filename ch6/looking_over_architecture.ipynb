{
 "cells": [
  {
   "cell_type": "markdown",
   "id": "63393466",
   "metadata": {},
   "source": [
    "# Obtaining corpora using NLTK "
   ]
  },
  {
   "cell_type": "markdown",
   "id": "474f83be",
   "metadata": {},
   "source": [
    "#### NLTK\n",
    "nlp를 위한 유명한 파이썬 패키지. 말뭉치 (corpora)를 포함.\n",
    "\n",
    "comtrans(combination approach to machine translation) \n",
    "\n",
    "독일어, 프랑스어, 여어에 대해 정렬된 말뭉치를 포함하고 있음."
   ]
  },
  {
   "cell_type": "code",
   "execution_count": 7,
   "id": "a0ced65e",
   "metadata": {},
   "outputs": [
    {
     "name": "stderr",
     "output_type": "stream",
     "text": [
      "[nltk_data] Downloading package comtrans to /Users/jiae/nltk_data...\n"
     ]
    },
    {
     "data": {
      "text/plain": [
       "True"
      ]
     },
     "execution_count": 7,
     "metadata": {},
     "output_type": "execute_result"
    }
   ],
   "source": [
    "import nltk\n",
    "nltk.download('comtrans')"
   ]
  },
  {
   "cell_type": "code",
   "execution_count": 18,
   "id": "426d5e1b",
   "metadata": {},
   "outputs": [
    {
     "name": "stdout",
     "output_type": "stream",
     "text": [
      "<AlignedSent: 'Wiederaufnahme der S...' -> 'Resumption of the se...'>\n"
     ]
    }
   ],
   "source": [
    "from nltk.corpus import comtrans\n",
    "print(comtrans.aligned_sents()[0]) #독일어를 영어로 \n",
    "# nltk.translate.api.AlignedSent class의 instance로 반한되는 객체임"
   ]
  },
  {
   "cell_type": "code",
   "execution_count": 14,
   "id": "410fb267",
   "metadata": {},
   "outputs": [
    {
     "name": "stdout",
     "output_type": "stream",
     "text": [
      "['Wiederaufnahme', 'der', 'Sitzungsperiode']\n"
     ]
    }
   ],
   "source": [
    "print(comtrans.aligned_sents()[0].words) # 첫 번째 언어는 word 특성으로 접근"
   ]
  },
  {
   "cell_type": "code",
   "execution_count": 16,
   "id": "ab5f7d7c",
   "metadata": {},
   "outputs": [
    {
     "name": "stdout",
     "output_type": "stream",
     "text": [
      "['Resumption', 'of', 'the', 'session']\n"
     ]
    }
   ],
   "source": [
    "print(comtrans.aligned_sents()[0].mots) # 두 번째 언어는 mots 특성으로 접근"
   ]
  },
  {
   "cell_type": "code",
   "execution_count": 20,
   "id": "9ac9ac61",
   "metadata": {},
   "outputs": [
    {
     "name": "stdout",
     "output_type": "stream",
     "text": [
      "0-0 1-1 1-2 2-3\n"
     ]
    }
   ],
   "source": [
    "print(comtrans.aligned_sents()[0].alignment) #언어 역학을 알려줌"
   ]
  }
 ],
 "metadata": {
  "kernelspec": {
   "display_name": "tf24",
   "language": "python",
   "name": "tf24"
  },
  "language_info": {
   "codemirror_mode": {
    "name": "ipython",
    "version": 3
   },
   "file_extension": ".py",
   "mimetype": "text/x-python",
   "name": "python",
   "nbconvert_exporter": "python",
   "pygments_lexer": "ipython3",
   "version": "3.8.6"
  }
 },
 "nbformat": 4,
 "nbformat_minor": 5
}
